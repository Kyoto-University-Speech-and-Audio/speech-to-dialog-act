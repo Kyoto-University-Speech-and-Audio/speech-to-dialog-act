{
 "cells": [
  {
   "cell_type": "code",
   "execution_count": 1,
   "metadata": {},
   "outputs": [
    {
     "name": "stderr",
     "output_type": "stream",
     "text": [
      "/home/trungdv/anaconda3/lib/python3.6/site-packages/h5py/__init__.py:36: FutureWarning: Conversion of the second argument of issubdtype from `float` to `np.floating` is deprecated. In future, it will be treated as `np.float64 == np.dtype(float).type`.\n",
      "  from ._conv import register_converters as _register_converters\n"
     ]
    }
   ],
   "source": [
    "import tensorflow as tf"
   ]
  },
  {
   "cell_type": "code",
   "execution_count": 3,
   "metadata": {},
   "outputs": [
    {
     "ename": "KeyError",
     "evalue": "'decoder/dense/kernel'",
     "traceback": [
      "\u001b[0;31m---------------------------------------------------------------------------\u001b[0m",
      "\u001b[0;31mKeyError\u001b[0m                                  Traceback (most recent call last)",
      "\u001b[0;32m<ipython-input-3-36dfab31f38b>\u001b[0m in \u001b[0;36m<module>\u001b[0;34m()\u001b[0m\n\u001b[1;32m     14\u001b[0m \u001b[0;34m\u001b[0m\u001b[0m\n\u001b[1;32m     15\u001b[0m \u001b[0;32mfor\u001b[0m \u001b[0mit\u001b[0m \u001b[0;32min\u001b[0m \u001b[0mvar_map\u001b[0m\u001b[0;34m:\u001b[0m\u001b[0;34m\u001b[0m\u001b[0m\n\u001b[0;32m---> 16\u001b[0;31m     \u001b[0mvar_list\u001b[0m\u001b[0;34m[\u001b[0m\u001b[0mit\u001b[0m\u001b[0;34m]\u001b[0m \u001b[0;34m=\u001b[0m \u001b[0mvar_list\u001b[0m\u001b[0;34m[\u001b[0m\u001b[0mvar_map\u001b[0m\u001b[0;34m[\u001b[0m\u001b[0mit\u001b[0m\u001b[0;34m]\u001b[0m\u001b[0;34m]\u001b[0m\u001b[0;34m\u001b[0m\u001b[0m\n\u001b[0m\u001b[1;32m     17\u001b[0m     \u001b[0;32mdel\u001b[0m \u001b[0mvar_list\u001b[0m\u001b[0;34m[\u001b[0m\u001b[0mvar_map\u001b[0m\u001b[0;34m[\u001b[0m\u001b[0mit\u001b[0m\u001b[0;34m]\u001b[0m\u001b[0;34m]\u001b[0m\u001b[0;34m\u001b[0m\u001b[0m\n\u001b[1;32m     18\u001b[0m \u001b[0;34m\u001b[0m\u001b[0m\n",
      "\u001b[0;31mKeyError\u001b[0m: 'decoder/dense/kernel'"
     ],
     "output_type": "error"
    }
   ],
   "source": [
    "saver = tf.train.import_meta_graph('../../../saved_models/attention_aps_word_context/csp.epoch159.ckpt.meta')\n",
    "\n",
    "var_map = {\n",
    "    \"decoder/decoder_emb_layer/kernel\": \"decoder/dense/kernel\",\n",
    "    \"decoder/decoder_emb_layer/bias\": \"decoder/dense/bias\",\n",
    "    \"decoder/decoder_emb_layer/bias/Adam\": \"decoder/dense/bias/Adam\",\n",
    "    \"decoder/decoder_emb_layer/bias/Adam_1\": \"decoder/dense/bias/Adam_1\",\n",
    "    \"decoder/decoder_emb_layer/kernel/Adam\": \"decoder/dense/kernel/Adam\",\n",
    "    \"decoder/decoder_emb_layer/kernel/Adam_1\": \"decoder/dense/kernel/Adam_1\",\n",
    "}\n",
    "\n",
    "saver_variables = tf.global_variables()\n",
    "var_list = {var.op.name: var for var in saver_variables}\n",
    "\n",
    "for it in var_map:\n",
    "    var_list[it] = var_list[var_map[it]]\n",
    "    del var_list[var_map[it]]\n",
    "            \n",
    "saver = tf.train.Saver(var_list=var_list)\n",
    "for var in var_list:\n",
    "    print(\"%s\\t%s\" % (var, str(var_list[var])))"
   ]
  },
  {
   "cell_type": "code",
   "execution_count": 5,
   "metadata": {},
   "outputs": [
    {
     "ename": "ValueError",
     "evalue": "Cannot evaluate tensor using `eval()`: No default session is registered. Use `with sess.as_default()` or pass an explicit session to `eval(session=sess)`",
     "traceback": [
      "\u001b[0;31m---------------------------------------------------------------------------\u001b[0m",
      "\u001b[0;31mValueError\u001b[0m                                Traceback (most recent call last)",
      "\u001b[0;32m<ipython-input-5-82043fac0700>\u001b[0m in \u001b[0;36m<module>\u001b[0;34m()\u001b[0m\n\u001b[1;32m      1\u001b[0m \u001b[0msaver_variables\u001b[0m \u001b[0;34m=\u001b[0m \u001b[0mtf\u001b[0m\u001b[0;34m.\u001b[0m\u001b[0mglobal_variables\u001b[0m\u001b[0;34m(\u001b[0m\u001b[0;34m)\u001b[0m\u001b[0;34m\u001b[0m\u001b[0m\n\u001b[1;32m      2\u001b[0m \u001b[0mvar_list\u001b[0m \u001b[0;34m=\u001b[0m \u001b[0;34m{\u001b[0m\u001b[0mvar\u001b[0m\u001b[0;34m.\u001b[0m\u001b[0mop\u001b[0m\u001b[0;34m.\u001b[0m\u001b[0mname\u001b[0m\u001b[0;34m:\u001b[0m \u001b[0mvar\u001b[0m \u001b[0;32mfor\u001b[0m \u001b[0mvar\u001b[0m \u001b[0;32min\u001b[0m \u001b[0msaver_variables\u001b[0m\u001b[0;34m}\u001b[0m\u001b[0;34m\u001b[0m\u001b[0m\n\u001b[0;32m----> 3\u001b[0;31m \u001b[0mprint\u001b[0m\u001b[0;34m(\u001b[0m\u001b[0mvar_list\u001b[0m\u001b[0;34m[\u001b[0m\u001b[0;34m\"decoder/attention_wrapper/basic_lstm_cell/kernel\"\u001b[0m\u001b[0;34m]\u001b[0m\u001b[0;34m.\u001b[0m\u001b[0meval\u001b[0m\u001b[0;34m(\u001b[0m\u001b[0;34m)\u001b[0m\u001b[0;34m)\u001b[0m\u001b[0;34m\u001b[0m\u001b[0m\n\u001b[0m",
      "\u001b[0;32m~/anaconda3/lib/python3.6/site-packages/tensorflow/python/ops/variables.py\u001b[0m in \u001b[0;36meval\u001b[0;34m(self, session)\u001b[0m\n\u001b[1;32m    544\u001b[0m       \u001b[0mA\u001b[0m \u001b[0mnumpy\u001b[0m\u001b[0;31m \u001b[0m\u001b[0;31m`\u001b[0m\u001b[0mndarray\u001b[0m\u001b[0;31m`\u001b[0m \u001b[0;32mwith\u001b[0m \u001b[0ma\u001b[0m \u001b[0mcopy\u001b[0m \u001b[0mof\u001b[0m \u001b[0mthe\u001b[0m \u001b[0mvalue\u001b[0m \u001b[0mof\u001b[0m \u001b[0mthis\u001b[0m \u001b[0mvariable\u001b[0m\u001b[0;34m.\u001b[0m\u001b[0;34m\u001b[0m\u001b[0m\n\u001b[1;32m    545\u001b[0m     \"\"\"\n\u001b[0;32m--> 546\u001b[0;31m     \u001b[0;32mreturn\u001b[0m \u001b[0mself\u001b[0m\u001b[0;34m.\u001b[0m\u001b[0m_variable\u001b[0m\u001b[0;34m.\u001b[0m\u001b[0meval\u001b[0m\u001b[0;34m(\u001b[0m\u001b[0msession\u001b[0m\u001b[0;34m=\u001b[0m\u001b[0msession\u001b[0m\u001b[0;34m)\u001b[0m\u001b[0;34m\u001b[0m\u001b[0m\n\u001b[0m\u001b[1;32m    547\u001b[0m \u001b[0;34m\u001b[0m\u001b[0m\n\u001b[1;32m    548\u001b[0m   \u001b[0;32mdef\u001b[0m \u001b[0minitialized_value\u001b[0m\u001b[0;34m(\u001b[0m\u001b[0mself\u001b[0m\u001b[0;34m)\u001b[0m\u001b[0;34m:\u001b[0m\u001b[0;34m\u001b[0m\u001b[0m\n",
      "\u001b[0;32m~/anaconda3/lib/python3.6/site-packages/tensorflow/python/framework/ops.py\u001b[0m in \u001b[0;36meval\u001b[0;34m(self, feed_dict, session)\u001b[0m\n\u001b[1;32m    654\u001b[0m \u001b[0;34m\u001b[0m\u001b[0m\n\u001b[1;32m    655\u001b[0m     \"\"\"\n\u001b[0;32m--> 656\u001b[0;31m     \u001b[0;32mreturn\u001b[0m \u001b[0m_eval_using_default_session\u001b[0m\u001b[0;34m(\u001b[0m\u001b[0mself\u001b[0m\u001b[0;34m,\u001b[0m \u001b[0mfeed_dict\u001b[0m\u001b[0;34m,\u001b[0m \u001b[0mself\u001b[0m\u001b[0;34m.\u001b[0m\u001b[0mgraph\u001b[0m\u001b[0;34m,\u001b[0m \u001b[0msession\u001b[0m\u001b[0;34m)\u001b[0m\u001b[0;34m\u001b[0m\u001b[0m\n\u001b[0m\u001b[1;32m    657\u001b[0m \u001b[0;34m\u001b[0m\u001b[0m\n\u001b[1;32m    658\u001b[0m \u001b[0;34m\u001b[0m\u001b[0m\n",
      "\u001b[0;32m~/anaconda3/lib/python3.6/site-packages/tensorflow/python/framework/ops.py\u001b[0m in \u001b[0;36m_eval_using_default_session\u001b[0;34m(tensors, feed_dict, graph, session)\u001b[0m\n\u001b[1;32m   5000\u001b[0m     \u001b[0msession\u001b[0m \u001b[0;34m=\u001b[0m \u001b[0mget_default_session\u001b[0m\u001b[0;34m(\u001b[0m\u001b[0;34m)\u001b[0m\u001b[0;34m\u001b[0m\u001b[0m\n\u001b[1;32m   5001\u001b[0m     \u001b[0;32mif\u001b[0m \u001b[0msession\u001b[0m \u001b[0;32mis\u001b[0m \u001b[0;32mNone\u001b[0m\u001b[0;34m:\u001b[0m\u001b[0;34m\u001b[0m\u001b[0m\n\u001b[0;32m-> 5002\u001b[0;31m       raise ValueError(\"Cannot evaluate tensor using `eval()`: No default \"\n\u001b[0m\u001b[1;32m   5003\u001b[0m                        \u001b[0;34m\"session is registered. Use `with \"\u001b[0m\u001b[0;34m\u001b[0m\u001b[0m\n\u001b[1;32m   5004\u001b[0m                        \u001b[0;34m\"sess.as_default()` or pass an explicit session to \"\u001b[0m\u001b[0;34m\u001b[0m\u001b[0m\n",
      "\u001b[0;31mValueError\u001b[0m: Cannot evaluate tensor using `eval()`: No default session is registered. Use `with sess.as_default()` or pass an explicit session to `eval(session=sess)`"
     ],
     "output_type": "error"
    }
   ],
   "source": []
  },
  {
   "cell_type": "code",
   "execution_count": 3,
   "metadata": {},
   "outputs": [],
   "source": [
    "graph = tf.get_default_graph()\n",
    "decoder_kernel = graph.get_tensor_by_name('decoder/attention_wrapper/basic_lstm_cell/kernel:0')\n",
    "decoder_kernel_var = tf.get_variable(\"new_kernel\", shape=[1955, 2560])"
   ]
  },
  {
   "cell_type": "code",
   "execution_count": 4,
   "metadata": {},
   "outputs": [
    {
     "name": "stdout",
     "output_type": "stream",
     "text": [
      "<tf.Variable 'new_kernel:0' shape=(1955, 2560) dtype=float32_ref>\n"
     ]
    }
   ],
   "source": [
    "tf.assign(decoder_kernel_var, tf.pad(decoder_kernel, [[0, 35], [0, 0]]))\n",
    "print(decoder_kernel_var)\n",
    "var_list['decoder/attention_wrapper/basic_lstm_cell/kernel'] = decoder_kernel_var"
   ]
  },
  {
   "cell_type": "code",
   "execution_count": 5,
   "metadata": {},
   "outputs": [
    {
     "name": "stdout",
     "output_type": "stream",
     "text": [
      "<tf.Variable 'new_kernel_adam:0' shape=(1955, 2560) dtype=float32_ref>\n"
     ]
    }
   ],
   "source": [
    "decoder_kernel_adam = graph.get_tensor_by_name('decoder/attention_wrapper/basic_lstm_cell/kernel/Adam:0')\n",
    "decoder_kernel_var_adam = tf.get_variable(\"new_kernel_adam\", shape=[1955, 2560])\n",
    "tf.assign(decoder_kernel_var_adam, tf.pad(decoder_kernel_adam, [[0, 35], [0, 0]]))\n",
    "print(decoder_kernel_var_adam)\n",
    "var_list['decoder/attention_wrapper/basic_lstm_cell/kernel/Adam'] = decoder_kernel_var_adam"
   ]
  },
  {
   "cell_type": "code",
   "execution_count": 6,
   "metadata": {},
   "outputs": [
    {
     "name": "stdout",
     "output_type": "stream",
     "text": [
      "<tf.Variable 'new_kernel_adam_1:0' shape=(1955, 2560) dtype=float32_ref>\n"
     ]
    }
   ],
   "source": [
    "decoder_kernel_adam_1 = graph.get_tensor_by_name('decoder/attention_wrapper/basic_lstm_cell/kernel/Adam_1:0')\n",
    "decoder_kernel_var_adam_1 = tf.get_variable(\"new_kernel_adam_1\", shape=[1955, 2560])\n",
    "tf.assign(decoder_kernel_var_adam_1, tf.pad(decoder_kernel_adam_1, [[0, 35], [0, 0]]))\n",
    "print(decoder_kernel_var_adam_1)\n",
    "var_list['decoder/attention_wrapper/basic_lstm_cell/kernel/Adam_1'] = decoder_kernel_var_adam_1"
   ]
  },
  {
   "cell_type": "code",
   "execution_count": 7,
   "metadata": {},
   "outputs": [
    {
     "name": "stdout",
     "output_type": "stream",
     "text": [
      "Variable\t()\n",
      "stack_bidirectional_rnn/cell_0/bidirectional_rnn/fw/basic_lstm_cell/kernel\t(440, 1280)\n",
      "stack_bidirectional_rnn/cell_0/bidirectional_rnn/fw/basic_lstm_cell/bias\t(1280,)\n",
      "stack_bidirectional_rnn/cell_0/bidirectional_rnn/bw/basic_lstm_cell/kernel\t(440, 1280)\n",
      "stack_bidirectional_rnn/cell_0/bidirectional_rnn/bw/basic_lstm_cell/bias\t(1280,)\n",
      "stack_bidirectional_rnn/cell_1/bidirectional_rnn/fw/basic_lstm_cell/kernel\t(960, 1280)\n",
      "stack_bidirectional_rnn/cell_1/bidirectional_rnn/fw/basic_lstm_cell/bias\t(1280,)\n",
      "stack_bidirectional_rnn/cell_1/bidirectional_rnn/bw/basic_lstm_cell/kernel\t(960, 1280)\n",
      "stack_bidirectional_rnn/cell_1/bidirectional_rnn/bw/basic_lstm_cell/bias\t(1280,)\n",
      "stack_bidirectional_rnn/cell_2/bidirectional_rnn/fw/basic_lstm_cell/kernel\t(960, 1280)\n",
      "stack_bidirectional_rnn/cell_2/bidirectional_rnn/fw/basic_lstm_cell/bias\t(1280,)\n",
      "stack_bidirectional_rnn/cell_2/bidirectional_rnn/bw/basic_lstm_cell/kernel\t(960, 1280)\n",
      "stack_bidirectional_rnn/cell_2/bidirectional_rnn/bw/basic_lstm_cell/bias\t(1280,)\n",
      "decoder/memory_layer/kernel\t(640, 640)\n",
      "decoder/attention_wrapper/basic_lstm_cell/kernel\t(1955, 2560)\n",
      "decoder/attention_wrapper/basic_lstm_cell/bias\t(2560,)\n",
      "decoder/attention_wrapper/custom_attention/query_layer/kernel\t(640, 640)\n",
      "decoder/attention_wrapper/custom_attention/location_conv/kernel\t(10, 1, 201)\n",
      "decoder/attention_wrapper/custom_attention/location_layer/kernel\t(201, 640)\n",
      "decoder/attention_wrapper/custom_attention/attention_v\t(640,)\n",
      "decoder/attention_wrapper/attention_layer/kernel\t(1280, 640)\n",
      "decoder/output_projection/kernel\t(640, 34331)\n",
      "beta1_power\t()\n",
      "beta2_power\t()\n",
      "stack_bidirectional_rnn/cell_0/bidirectional_rnn/fw/basic_lstm_cell/kernel/Adam\t(440, 1280)\n",
      "stack_bidirectional_rnn/cell_0/bidirectional_rnn/fw/basic_lstm_cell/kernel/Adam_1\t(440, 1280)\n",
      "stack_bidirectional_rnn/cell_0/bidirectional_rnn/fw/basic_lstm_cell/bias/Adam\t(1280,)\n",
      "stack_bidirectional_rnn/cell_0/bidirectional_rnn/fw/basic_lstm_cell/bias/Adam_1\t(1280,)\n",
      "stack_bidirectional_rnn/cell_0/bidirectional_rnn/bw/basic_lstm_cell/kernel/Adam\t(440, 1280)\n",
      "stack_bidirectional_rnn/cell_0/bidirectional_rnn/bw/basic_lstm_cell/kernel/Adam_1\t(440, 1280)\n",
      "stack_bidirectional_rnn/cell_0/bidirectional_rnn/bw/basic_lstm_cell/bias/Adam\t(1280,)\n",
      "stack_bidirectional_rnn/cell_0/bidirectional_rnn/bw/basic_lstm_cell/bias/Adam_1\t(1280,)\n",
      "stack_bidirectional_rnn/cell_1/bidirectional_rnn/fw/basic_lstm_cell/kernel/Adam\t(960, 1280)\n",
      "stack_bidirectional_rnn/cell_1/bidirectional_rnn/fw/basic_lstm_cell/kernel/Adam_1\t(960, 1280)\n",
      "stack_bidirectional_rnn/cell_1/bidirectional_rnn/fw/basic_lstm_cell/bias/Adam\t(1280,)\n",
      "stack_bidirectional_rnn/cell_1/bidirectional_rnn/fw/basic_lstm_cell/bias/Adam_1\t(1280,)\n",
      "stack_bidirectional_rnn/cell_1/bidirectional_rnn/bw/basic_lstm_cell/kernel/Adam\t(960, 1280)\n",
      "stack_bidirectional_rnn/cell_1/bidirectional_rnn/bw/basic_lstm_cell/kernel/Adam_1\t(960, 1280)\n",
      "stack_bidirectional_rnn/cell_1/bidirectional_rnn/bw/basic_lstm_cell/bias/Adam\t(1280,)\n",
      "stack_bidirectional_rnn/cell_1/bidirectional_rnn/bw/basic_lstm_cell/bias/Adam_1\t(1280,)\n",
      "stack_bidirectional_rnn/cell_2/bidirectional_rnn/fw/basic_lstm_cell/kernel/Adam\t(960, 1280)\n",
      "stack_bidirectional_rnn/cell_2/bidirectional_rnn/fw/basic_lstm_cell/kernel/Adam_1\t(960, 1280)\n",
      "stack_bidirectional_rnn/cell_2/bidirectional_rnn/fw/basic_lstm_cell/bias/Adam\t(1280,)\n",
      "stack_bidirectional_rnn/cell_2/bidirectional_rnn/fw/basic_lstm_cell/bias/Adam_1\t(1280,)\n",
      "stack_bidirectional_rnn/cell_2/bidirectional_rnn/bw/basic_lstm_cell/kernel/Adam\t(960, 1280)\n",
      "stack_bidirectional_rnn/cell_2/bidirectional_rnn/bw/basic_lstm_cell/kernel/Adam_1\t(960, 1280)\n",
      "stack_bidirectional_rnn/cell_2/bidirectional_rnn/bw/basic_lstm_cell/bias/Adam\t(1280,)\n",
      "stack_bidirectional_rnn/cell_2/bidirectional_rnn/bw/basic_lstm_cell/bias/Adam_1\t(1280,)\n",
      "decoder/memory_layer/kernel/Adam\t(640, 640)\n",
      "decoder/memory_layer/kernel/Adam_1\t(640, 640)\n",
      "decoder/attention_wrapper/basic_lstm_cell/kernel/Adam\t(1955, 2560)\n",
      "decoder/attention_wrapper/basic_lstm_cell/kernel/Adam_1\t(1955, 2560)\n",
      "decoder/attention_wrapper/basic_lstm_cell/bias/Adam\t(2560,)\n",
      "decoder/attention_wrapper/basic_lstm_cell/bias/Adam_1\t(2560,)\n",
      "decoder/attention_wrapper/custom_attention/query_layer/kernel/Adam\t(640, 640)\n",
      "decoder/attention_wrapper/custom_attention/query_layer/kernel/Adam_1\t(640, 640)\n",
      "decoder/attention_wrapper/custom_attention/location_conv/kernel/Adam\t(10, 1, 201)\n",
      "decoder/attention_wrapper/custom_attention/location_conv/kernel/Adam_1\t(10, 1, 201)\n",
      "decoder/attention_wrapper/custom_attention/location_layer/kernel/Adam\t(201, 640)\n",
      "decoder/attention_wrapper/custom_attention/location_layer/kernel/Adam_1\t(201, 640)\n",
      "decoder/attention_wrapper/custom_attention/attention_v/Adam\t(640,)\n",
      "decoder/attention_wrapper/custom_attention/attention_v/Adam_1\t(640,)\n",
      "decoder/attention_wrapper/attention_layer/kernel/Adam\t(1280, 640)\n",
      "decoder/attention_wrapper/attention_layer/kernel/Adam_1\t(1280, 640)\n",
      "decoder/output_projection/kernel/Adam\t(640, 34331)\n",
      "decoder/output_projection/kernel/Adam_1\t(640, 34331)\n",
      "decoder/decoder_emb_layer/kernel\t(34331, 640)\n",
      "decoder/decoder_emb_layer/bias\t(640,)\n",
      "decoder/decoder_emb_layer/bias/Adam\t(640,)\n",
      "decoder/decoder_emb_layer/bias/Adam_1\t(640,)\n",
      "decoder/decoder_emb_layer/kernel/Adam\t(34331, 640)\n",
      "decoder/decoder_emb_layer/kernel/Adam_1\t(34331, 640)\n"
     ]
    }
   ],
   "source": [
    "for var in var_list:\n",
    "    print(\"%s\\t%s\" % (var, str(var_list[var].get_shape())))"
   ]
  },
  {
   "cell_type": "code",
   "execution_count": 7,
   "metadata": {},
   "outputs": [
    {
     "ename": "KeyboardInterrupt",
     "evalue": "",
     "traceback": [
      "\u001b[0;31m---------------------------------------------------------------------------\u001b[0m",
      "\u001b[0;31mKeyboardInterrupt\u001b[0m                         Traceback (most recent call last)",
      "\u001b[0;32m<ipython-input-7-9974ff4d678a>\u001b[0m in \u001b[0;36m<module>\u001b[0;34m()\u001b[0m\n\u001b[1;32m      2\u001b[0m \u001b[0msaver\u001b[0m \u001b[0;34m=\u001b[0m \u001b[0mtf\u001b[0m\u001b[0;34m.\u001b[0m\u001b[0mtrain\u001b[0m\u001b[0;34m.\u001b[0m\u001b[0mSaver\u001b[0m\u001b[0;34m(\u001b[0m\u001b[0mvar_list\u001b[0m\u001b[0;34m=\u001b[0m\u001b[0mvar_list\u001b[0m\u001b[0;34m)\u001b[0m\u001b[0;34m\u001b[0m\u001b[0m\n\u001b[1;32m      3\u001b[0m \u001b[0;32mwith\u001b[0m \u001b[0mtf\u001b[0m\u001b[0;34m.\u001b[0m\u001b[0mSession\u001b[0m\u001b[0;34m(\u001b[0m\u001b[0;34m)\u001b[0m \u001b[0;32mas\u001b[0m \u001b[0msess\u001b[0m\u001b[0;34m:\u001b[0m\u001b[0;34m\u001b[0m\u001b[0m\n\u001b[0;32m----> 4\u001b[0;31m     \u001b[0msess\u001b[0m\u001b[0;34m.\u001b[0m\u001b[0mrun\u001b[0m\u001b[0;34m(\u001b[0m\u001b[0minit_op\u001b[0m\u001b[0;34m)\u001b[0m\u001b[0;34m\u001b[0m\u001b[0m\n\u001b[0m\u001b[1;32m      5\u001b[0m     \u001b[0msaver\u001b[0m\u001b[0;34m.\u001b[0m\u001b[0msave\u001b[0m\u001b[0;34m(\u001b[0m\u001b[0msess\u001b[0m\u001b[0;34m,\u001b[0m \u001b[0;34m'../../../saved_models/attention_aps_word_context/csp.epoch9-new.ckpt'\u001b[0m\u001b[0;34m)\u001b[0m\u001b[0;34m\u001b[0m\u001b[0m\n",
      "\u001b[0;32m~/anaconda3/lib/python3.6/site-packages/tensorflow/python/client/session.py\u001b[0m in \u001b[0;36mrun\u001b[0;34m(self, fetches, feed_dict, options, run_metadata)\u001b[0m\n\u001b[1;32m    903\u001b[0m     \u001b[0;32mtry\u001b[0m\u001b[0;34m:\u001b[0m\u001b[0;34m\u001b[0m\u001b[0m\n\u001b[1;32m    904\u001b[0m       result = self._run(None, fetches, feed_dict, options_ptr,\n\u001b[0;32m--> 905\u001b[0;31m                          run_metadata_ptr)\n\u001b[0m\u001b[1;32m    906\u001b[0m       \u001b[0;32mif\u001b[0m \u001b[0mrun_metadata\u001b[0m\u001b[0;34m:\u001b[0m\u001b[0;34m\u001b[0m\u001b[0m\n\u001b[1;32m    907\u001b[0m         \u001b[0mproto_data\u001b[0m \u001b[0;34m=\u001b[0m \u001b[0mtf_session\u001b[0m\u001b[0;34m.\u001b[0m\u001b[0mTF_GetBuffer\u001b[0m\u001b[0;34m(\u001b[0m\u001b[0mrun_metadata_ptr\u001b[0m\u001b[0;34m)\u001b[0m\u001b[0;34m\u001b[0m\u001b[0m\n",
      "\u001b[0;32m~/anaconda3/lib/python3.6/site-packages/tensorflow/python/client/session.py\u001b[0m in \u001b[0;36m_run\u001b[0;34m(self, handle, fetches, feed_dict, options, run_metadata)\u001b[0m\n\u001b[1;32m   1138\u001b[0m     \u001b[0;32mif\u001b[0m \u001b[0mfinal_fetches\u001b[0m \u001b[0;32mor\u001b[0m \u001b[0mfinal_targets\u001b[0m \u001b[0;32mor\u001b[0m \u001b[0;34m(\u001b[0m\u001b[0mhandle\u001b[0m \u001b[0;32mand\u001b[0m \u001b[0mfeed_dict_tensor\u001b[0m\u001b[0;34m)\u001b[0m\u001b[0;34m:\u001b[0m\u001b[0;34m\u001b[0m\u001b[0m\n\u001b[1;32m   1139\u001b[0m       results = self._do_run(handle, final_targets, final_fetches,\n\u001b[0;32m-> 1140\u001b[0;31m                              feed_dict_tensor, options, run_metadata)\n\u001b[0m\u001b[1;32m   1141\u001b[0m     \u001b[0;32melse\u001b[0m\u001b[0;34m:\u001b[0m\u001b[0;34m\u001b[0m\u001b[0m\n\u001b[1;32m   1142\u001b[0m       \u001b[0mresults\u001b[0m \u001b[0;34m=\u001b[0m \u001b[0;34m[\u001b[0m\u001b[0;34m]\u001b[0m\u001b[0;34m\u001b[0m\u001b[0m\n",
      "\u001b[0;32m~/anaconda3/lib/python3.6/site-packages/tensorflow/python/client/session.py\u001b[0m in \u001b[0;36m_do_run\u001b[0;34m(self, handle, target_list, fetch_list, feed_dict, options, run_metadata)\u001b[0m\n\u001b[1;32m   1319\u001b[0m     \u001b[0;32mif\u001b[0m \u001b[0mhandle\u001b[0m \u001b[0;32mis\u001b[0m \u001b[0;32mNone\u001b[0m\u001b[0;34m:\u001b[0m\u001b[0;34m\u001b[0m\u001b[0m\n\u001b[1;32m   1320\u001b[0m       return self._do_call(_run_fn, feeds, fetches, targets, options,\n\u001b[0;32m-> 1321\u001b[0;31m                            run_metadata)\n\u001b[0m\u001b[1;32m   1322\u001b[0m     \u001b[0;32melse\u001b[0m\u001b[0;34m:\u001b[0m\u001b[0;34m\u001b[0m\u001b[0m\n\u001b[1;32m   1323\u001b[0m       \u001b[0;32mreturn\u001b[0m \u001b[0mself\u001b[0m\u001b[0;34m.\u001b[0m\u001b[0m_do_call\u001b[0m\u001b[0;34m(\u001b[0m\u001b[0m_prun_fn\u001b[0m\u001b[0;34m,\u001b[0m \u001b[0mhandle\u001b[0m\u001b[0;34m,\u001b[0m \u001b[0mfeeds\u001b[0m\u001b[0;34m,\u001b[0m \u001b[0mfetches\u001b[0m\u001b[0;34m)\u001b[0m\u001b[0;34m\u001b[0m\u001b[0m\n",
      "\u001b[0;32m~/anaconda3/lib/python3.6/site-packages/tensorflow/python/client/session.py\u001b[0m in \u001b[0;36m_do_call\u001b[0;34m(self, fn, *args)\u001b[0m\n\u001b[1;32m   1325\u001b[0m   \u001b[0;32mdef\u001b[0m \u001b[0m_do_call\u001b[0m\u001b[0;34m(\u001b[0m\u001b[0mself\u001b[0m\u001b[0;34m,\u001b[0m \u001b[0mfn\u001b[0m\u001b[0;34m,\u001b[0m \u001b[0;34m*\u001b[0m\u001b[0margs\u001b[0m\u001b[0;34m)\u001b[0m\u001b[0;34m:\u001b[0m\u001b[0;34m\u001b[0m\u001b[0m\n\u001b[1;32m   1326\u001b[0m     \u001b[0;32mtry\u001b[0m\u001b[0;34m:\u001b[0m\u001b[0;34m\u001b[0m\u001b[0m\n\u001b[0;32m-> 1327\u001b[0;31m       \u001b[0;32mreturn\u001b[0m \u001b[0mfn\u001b[0m\u001b[0;34m(\u001b[0m\u001b[0;34m*\u001b[0m\u001b[0margs\u001b[0m\u001b[0;34m)\u001b[0m\u001b[0;34m\u001b[0m\u001b[0m\n\u001b[0m\u001b[1;32m   1328\u001b[0m     \u001b[0;32mexcept\u001b[0m \u001b[0merrors\u001b[0m\u001b[0;34m.\u001b[0m\u001b[0mOpError\u001b[0m \u001b[0;32mas\u001b[0m \u001b[0me\u001b[0m\u001b[0;34m:\u001b[0m\u001b[0;34m\u001b[0m\u001b[0m\n\u001b[1;32m   1329\u001b[0m       \u001b[0mmessage\u001b[0m \u001b[0;34m=\u001b[0m \u001b[0mcompat\u001b[0m\u001b[0;34m.\u001b[0m\u001b[0mas_text\u001b[0m\u001b[0;34m(\u001b[0m\u001b[0me\u001b[0m\u001b[0;34m.\u001b[0m\u001b[0mmessage\u001b[0m\u001b[0;34m)\u001b[0m\u001b[0;34m\u001b[0m\u001b[0m\n",
      "\u001b[0;32m~/anaconda3/lib/python3.6/site-packages/tensorflow/python/client/session.py\u001b[0m in \u001b[0;36m_run_fn\u001b[0;34m(feed_dict, fetch_list, target_list, options, run_metadata)\u001b[0m\n\u001b[1;32m   1310\u001b[0m       \u001b[0mself\u001b[0m\u001b[0;34m.\u001b[0m\u001b[0m_extend_graph\u001b[0m\u001b[0;34m(\u001b[0m\u001b[0;34m)\u001b[0m\u001b[0;34m\u001b[0m\u001b[0m\n\u001b[1;32m   1311\u001b[0m       return self._call_tf_sessionrun(\n\u001b[0;32m-> 1312\u001b[0;31m           options, feed_dict, fetch_list, target_list, run_metadata)\n\u001b[0m\u001b[1;32m   1313\u001b[0m \u001b[0;34m\u001b[0m\u001b[0m\n\u001b[1;32m   1314\u001b[0m     \u001b[0;32mdef\u001b[0m \u001b[0m_prun_fn\u001b[0m\u001b[0;34m(\u001b[0m\u001b[0mhandle\u001b[0m\u001b[0;34m,\u001b[0m \u001b[0mfeed_dict\u001b[0m\u001b[0;34m,\u001b[0m \u001b[0mfetch_list\u001b[0m\u001b[0;34m)\u001b[0m\u001b[0;34m:\u001b[0m\u001b[0;34m\u001b[0m\u001b[0m\n",
      "\u001b[0;32m~/anaconda3/lib/python3.6/site-packages/tensorflow/python/client/session.py\u001b[0m in \u001b[0;36m_call_tf_sessionrun\u001b[0;34m(self, options, feed_dict, fetch_list, target_list, run_metadata)\u001b[0m\n\u001b[1;32m   1418\u001b[0m         return tf_session.TF_Run(\n\u001b[1;32m   1419\u001b[0m             \u001b[0mself\u001b[0m\u001b[0;34m.\u001b[0m\u001b[0m_session\u001b[0m\u001b[0;34m,\u001b[0m \u001b[0moptions\u001b[0m\u001b[0;34m,\u001b[0m \u001b[0mfeed_dict\u001b[0m\u001b[0;34m,\u001b[0m \u001b[0mfetch_list\u001b[0m\u001b[0;34m,\u001b[0m \u001b[0mtarget_list\u001b[0m\u001b[0;34m,\u001b[0m\u001b[0;34m\u001b[0m\u001b[0m\n\u001b[0;32m-> 1420\u001b[0;31m             status, run_metadata)\n\u001b[0m\u001b[1;32m   1421\u001b[0m \u001b[0;34m\u001b[0m\u001b[0m\n\u001b[1;32m   1422\u001b[0m   \u001b[0;32mdef\u001b[0m \u001b[0m_call_tf_sessionprun\u001b[0m\u001b[0;34m(\u001b[0m\u001b[0mself\u001b[0m\u001b[0;34m,\u001b[0m \u001b[0mhandle\u001b[0m\u001b[0;34m,\u001b[0m \u001b[0mfeed_dict\u001b[0m\u001b[0;34m,\u001b[0m \u001b[0mfetch_list\u001b[0m\u001b[0;34m)\u001b[0m\u001b[0;34m:\u001b[0m\u001b[0;34m\u001b[0m\u001b[0m\n",
      "\u001b[0;31mKeyboardInterrupt\u001b[0m: "
     ],
     "output_type": "error"
    }
   ],
   "source": [
    "init_op = tf.global_variables_initializer()\n",
    "saver = tf.train.Saver(var_list=var_list)\n",
    "with tf.Session() as sess:\n",
    "    sess.run(init_op)\n",
    "    saver.save(sess, '../../../saved_models/attention_aps_word_context/csp.epoch9-new.ckpt')"
   ]
  },
  {
   "cell_type": "code",
   "execution_count": 9,
   "metadata": {},
   "outputs": [
    {
     "name": "stdout",
     "output_type": "stream",
     "text": [
      "Variable (DT_INT32) []\n",
      "beta1_power (DT_FLOAT) []\n",
      "beta2_power (DT_FLOAT) []\n",
      "decoder/attention_wrapper/attention_layer/kernel (DT_FLOAT) [1280,640]\n",
      "decoder/attention_wrapper/attention_layer/kernel/Adam (DT_FLOAT) [1280,640]\n",
      "decoder/attention_wrapper/attention_layer/kernel/Adam_1 (DT_FLOAT) [1280,640]\n",
      "decoder/attention_wrapper/basic_lstm_cell/bias (DT_FLOAT) [2560]\n",
      "decoder/attention_wrapper/basic_lstm_cell/bias/Adam (DT_FLOAT) [2560]\n",
      "decoder/attention_wrapper/basic_lstm_cell/bias/Adam_1 (DT_FLOAT) [2560]\n",
      "decoder/attention_wrapper/basic_lstm_cell/kernel (DT_FLOAT) [1955,2560]\n",
      "decoder/attention_wrapper/basic_lstm_cell/kernel/Adam (DT_FLOAT) [1955,2560]\n",
      "decoder/attention_wrapper/basic_lstm_cell/kernel/Adam_1 (DT_FLOAT) [1955,2560]\n",
      "decoder/attention_wrapper/custom_attention/attention_v (DT_FLOAT) [640]\n",
      "decoder/attention_wrapper/custom_attention/attention_v/Adam (DT_FLOAT) [640]\n",
      "decoder/attention_wrapper/custom_attention/attention_v/Adam_1 (DT_FLOAT) [640]\n",
      "decoder/attention_wrapper/custom_attention/location_conv/kernel (DT_FLOAT) [10,1,201]\n",
      "decoder/attention_wrapper/custom_attention/location_conv/kernel/Adam (DT_FLOAT) [10,1,201]\n",
      "decoder/attention_wrapper/custom_attention/location_conv/kernel/Adam_1 (DT_FLOAT) [10,1,201]\n",
      "decoder/attention_wrapper/custom_attention/location_layer/kernel (DT_FLOAT) [201,640]\n",
      "decoder/attention_wrapper/custom_attention/location_layer/kernel/Adam (DT_FLOAT) [201,640]\n",
      "decoder/attention_wrapper/custom_attention/location_layer/kernel/Adam_1 (DT_FLOAT) [201,640]\n",
      "decoder/attention_wrapper/custom_attention/query_layer/kernel (DT_FLOAT) [640,640]\n",
      "decoder/attention_wrapper/custom_attention/query_layer/kernel/Adam (DT_FLOAT) [640,640]\n",
      "decoder/attention_wrapper/custom_attention/query_layer/kernel/Adam_1 (DT_FLOAT) [640,640]\n",
      "decoder/decoder_emb_layer/bias (DT_FLOAT) [640]\n",
      "decoder/decoder_emb_layer/bias/Adam (DT_FLOAT) [640]\n",
      "decoder/decoder_emb_layer/bias/Adam_1 (DT_FLOAT) [640]\n",
      "decoder/decoder_emb_layer/kernel (DT_FLOAT) [34331,640]\n",
      "decoder/decoder_emb_layer/kernel/Adam (DT_FLOAT) [34331,640]\n",
      "decoder/decoder_emb_layer/kernel/Adam_1 (DT_FLOAT) [34331,640]\n",
      "decoder/memory_layer/kernel (DT_FLOAT) [640,640]\n",
      "decoder/memory_layer/kernel/Adam (DT_FLOAT) [640,640]\n",
      "decoder/memory_layer/kernel/Adam_1 (DT_FLOAT) [640,640]\n",
      "decoder/output_projection/kernel (DT_FLOAT) [640,34331]\n",
      "decoder/output_projection/kernel/Adam (DT_FLOAT) [640,34331]\n",
      "decoder/output_projection/kernel/Adam_1 (DT_FLOAT) [640,34331]\n",
      "stack_bidirectional_rnn/cell_0/bidirectional_rnn/bw/basic_lstm_cell/bias (DT_FLOAT) [1280]\n",
      "stack_bidirectional_rnn/cell_0/bidirectional_rnn/bw/basic_lstm_cell/bias/Adam (DT_FLOAT) [1280]\n",
      "stack_bidirectional_rnn/cell_0/bidirectional_rnn/bw/basic_lstm_cell/bias/Adam_1 (DT_FLOAT) [1280]\n",
      "stack_bidirectional_rnn/cell_0/bidirectional_rnn/bw/basic_lstm_cell/kernel (DT_FLOAT) [440,1280]\n",
      "stack_bidirectional_rnn/cell_0/bidirectional_rnn/bw/basic_lstm_cell/kernel/Adam (DT_FLOAT) [440,1280]\n",
      "stack_bidirectional_rnn/cell_0/bidirectional_rnn/bw/basic_lstm_cell/kernel/Adam_1 (DT_FLOAT) [440,1280]\n",
      "stack_bidirectional_rnn/cell_0/bidirectional_rnn/fw/basic_lstm_cell/bias (DT_FLOAT) [1280]\n",
      "stack_bidirectional_rnn/cell_0/bidirectional_rnn/fw/basic_lstm_cell/bias/Adam (DT_FLOAT) [1280]\n",
      "stack_bidirectional_rnn/cell_0/bidirectional_rnn/fw/basic_lstm_cell/bias/Adam_1 (DT_FLOAT) [1280]\n",
      "stack_bidirectional_rnn/cell_0/bidirectional_rnn/fw/basic_lstm_cell/kernel (DT_FLOAT) [440,1280]\n",
      "stack_bidirectional_rnn/cell_0/bidirectional_rnn/fw/basic_lstm_cell/kernel/Adam (DT_FLOAT) [440,1280]\n",
      "stack_bidirectional_rnn/cell_0/bidirectional_rnn/fw/basic_lstm_cell/kernel/Adam_1 (DT_FLOAT) [440,1280]\n",
      "stack_bidirectional_rnn/cell_1/bidirectional_rnn/bw/basic_lstm_cell/bias (DT_FLOAT) [1280]\n",
      "stack_bidirectional_rnn/cell_1/bidirectional_rnn/bw/basic_lstm_cell/bias/Adam (DT_FLOAT) [1280]\n",
      "stack_bidirectional_rnn/cell_1/bidirectional_rnn/bw/basic_lstm_cell/bias/Adam_1 (DT_FLOAT) [1280]\n",
      "stack_bidirectional_rnn/cell_1/bidirectional_rnn/bw/basic_lstm_cell/kernel (DT_FLOAT) [960,1280]\n",
      "stack_bidirectional_rnn/cell_1/bidirectional_rnn/bw/basic_lstm_cell/kernel/Adam (DT_FLOAT) [960,1280]\n",
      "stack_bidirectional_rnn/cell_1/bidirectional_rnn/bw/basic_lstm_cell/kernel/Adam_1 (DT_FLOAT) [960,1280]\n",
      "stack_bidirectional_rnn/cell_1/bidirectional_rnn/fw/basic_lstm_cell/bias (DT_FLOAT) [1280]\n",
      "stack_bidirectional_rnn/cell_1/bidirectional_rnn/fw/basic_lstm_cell/bias/Adam (DT_FLOAT) [1280]\n",
      "stack_bidirectional_rnn/cell_1/bidirectional_rnn/fw/basic_lstm_cell/bias/Adam_1 (DT_FLOAT) [1280]\n",
      "stack_bidirectional_rnn/cell_1/bidirectional_rnn/fw/basic_lstm_cell/kernel (DT_FLOAT) [960,1280]\n",
      "stack_bidirectional_rnn/cell_1/bidirectional_rnn/fw/basic_lstm_cell/kernel/Adam (DT_FLOAT) [960,1280]\n",
      "stack_bidirectional_rnn/cell_1/bidirectional_rnn/fw/basic_lstm_cell/kernel/Adam_1 (DT_FLOAT) [960,1280]\n",
      "stack_bidirectional_rnn/cell_2/bidirectional_rnn/bw/basic_lstm_cell/bias (DT_FLOAT) [1280]\n",
      "stack_bidirectional_rnn/cell_2/bidirectional_rnn/bw/basic_lstm_cell/bias/Adam (DT_FLOAT) [1280]\n",
      "stack_bidirectional_rnn/cell_2/bidirectional_rnn/bw/basic_lstm_cell/bias/Adam_1 (DT_FLOAT) [1280]\n",
      "stack_bidirectional_rnn/cell_2/bidirectional_rnn/bw/basic_lstm_cell/kernel (DT_FLOAT) [960,1280]\n",
      "stack_bidirectional_rnn/cell_2/bidirectional_rnn/bw/basic_lstm_cell/kernel/Adam (DT_FLOAT) [960,1280]\n",
      "stack_bidirectional_rnn/cell_2/bidirectional_rnn/bw/basic_lstm_cell/kernel/Adam_1 (DT_FLOAT) [960,1280]\n",
      "stack_bidirectional_rnn/cell_2/bidirectional_rnn/fw/basic_lstm_cell/bias (DT_FLOAT) [1280]\n",
      "stack_bidirectional_rnn/cell_2/bidirectional_rnn/fw/basic_lstm_cell/bias/Adam (DT_FLOAT) [1280]\n",
      "stack_bidirectional_rnn/cell_2/bidirectional_rnn/fw/basic_lstm_cell/bias/Adam_1 (DT_FLOAT) [1280]\n",
      "stack_bidirectional_rnn/cell_2/bidirectional_rnn/fw/basic_lstm_cell/kernel (DT_FLOAT) [960,1280]\n",
      "stack_bidirectional_rnn/cell_2/bidirectional_rnn/fw/basic_lstm_cell/kernel/Adam (DT_FLOAT) [960,1280]\n",
      "stack_bidirectional_rnn/cell_2/bidirectional_rnn/fw/basic_lstm_cell/kernel/Adam_1 (DT_FLOAT) [960,1280]\n",
      "\n"
     ]
    }
   ],
   "source": [
    "from tensorflow.python.tools.inspect_checkpoint import print_tensors_in_checkpoint_file\n",
    "print_tensors_in_checkpoint_file(file_name=\"../../../saved_models/attention_aps_word_context/csp.epoch9-new.ckpt\", tensor_name='', all_tensors=False, all_tensor_names=False)"
   ]
  },
  {
   "cell_type": "code",
   "execution_count": 11,
   "metadata": {},
   "outputs": [
    {
     "name": "stdout",
     "output_type": "stream",
     "text": [
      "INFO:tensorflow:Restoring parameters from ../../../saved_models/attention_aps_word_context/csp.epoch159.ckpt\n"
     ]
    }
   ],
   "source": [
    "sess = tf.Session()\n",
    "saver_variables = tf.global_variables()\n",
    "var_list = {var.op.name: var for var in saver_variables}\n",
    "saver = tf.train.Saver(var_list=var_list)\n",
    "saver.restore(sess, '../../../saved_models/attention_aps_word_context/csp.epoch159.ckpt')\n",
    "a = (var_list[\"decoder/attention_wrapper/basic_lstm_cell/kernel\"].eval(sess))"
   ]
  },
  {
   "cell_type": "code",
   "execution_count": 18,
   "metadata": {},
   "outputs": [
    {
     "name": "stdout",
     "output_type": "stream",
     "text": [
      "0.0032008450816335557\n"
     ]
    }
   ],
   "source": [
    "print(sum(sum(a[:-35][:])) / 2560 / 35)"
   ]
  },
  {
   "cell_type": "code",
   "execution_count": null,
   "metadata": {},
   "outputs": [],
   "source": []
  }
 ],
 "metadata": {
  "kernelspec": {
   "display_name": "Python 3",
   "language": "python",
   "name": "python3"
  },
  "language_info": {
   "codemirror_mode": {
    "name": "ipython",
    "version": 3
   },
   "file_extension": ".py",
   "mimetype": "text/x-python",
   "name": "python",
   "nbconvert_exporter": "python",
   "pygments_lexer": "ipython3",
   "version": "3.6.4"
  }
 },
 "nbformat": 4,
 "nbformat_minor": 2
}
