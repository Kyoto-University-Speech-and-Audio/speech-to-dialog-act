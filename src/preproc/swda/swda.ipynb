{
 "cells": [
  {
   "cell_type": "code",
   "execution_count": 13,
   "metadata": {
    "collapsed": true
   },
   "outputs": [
    {
     "ename": "ModuleNotFoundError",
     "evalue": "No module named 'swda'",
     "traceback": [
      "\u001b[0;31m---------------------------------------------------------------------------\u001b[0m",
      "\u001b[0;31mModuleNotFoundError\u001b[0m                       Traceback (most recent call last)",
      "\u001b[0;32m<ipython-input-13-faf60ff48d9b>\u001b[0m in \u001b[0;36m<module>\u001b[0;34m()\u001b[0m\n\u001b[0;32m----> 1\u001b[0;31m \u001b[0;32mfrom\u001b[0m \u001b[0mswda\u001b[0m \u001b[0;32mimport\u001b[0m \u001b[0mTranscript\u001b[0m\u001b[0;34m\u001b[0m\u001b[0m\n\u001b[0m",
      "\u001b[0;31mModuleNotFoundError\u001b[0m: No module named 'swda'"
     ],
     "output_type": "error"
    }
   ],
   "source": [
    "from swda import Transcript"
   ]
  },
  {
   "cell_type": "code",
   "execution_count": 14,
   "metadata": {},
   "outputs": [
    {
     "ename": "NameError",
     "evalue": "name 'Transcript' is not defined",
     "traceback": [
      "\u001b[0;31m---------------------------------------------------------------------------\u001b[0m",
      "\u001b[0;31mNameError\u001b[0m                                 Traceback (most recent call last)",
      "\u001b[0;32m<ipython-input-14-5c065880310e>\u001b[0m in \u001b[0;36m<module>\u001b[0;34m()\u001b[0m\n\u001b[0;32m----> 1\u001b[0;31m \u001b[0mtrans\u001b[0m \u001b[0;34m=\u001b[0m \u001b[0mTranscript\u001b[0m\u001b[0;34m(\u001b[0m\u001b[0;34m'../../../data/SwDA/swda/sw00utt/sw_0001_4325.utt.csv'\u001b[0m\u001b[0;34m,\u001b[0m \u001b[0;34m'../../../data/SwDA/swda/swda-metadata.csv'\u001b[0m\u001b[0;34m)\u001b[0m\u001b[0;34m\u001b[0m\u001b[0m\n\u001b[0m",
      "\u001b[0;31mNameError\u001b[0m: name 'Transcript' is not defined"
     ],
     "output_type": "error"
    }
   ],
   "source": [
    "trans = Transcript('../../../data/SwDA/swda/sw00utt/sw_0001_4325.utt.csv', '../../../data/SwDA/swda/swda-metadata.csv')"
   ]
  },
  {
   "cell_type": "code",
   "execution_count": 10,
   "metadata": {},
   "outputs": [
    {
     "name": "stdout",
     "output_type": "stream",
     "text": [
      "[<swda.Utterance object at 0x1a15374898>, <swda.Utterance object at 0x1a15374860>, <swda.Utterance object at 0x1a15374748>, <swda.Utterance object at 0x1a15374630>, <swda.Utterance object at 0x1a15374518>, <swda.Utterance object at 0x1a153741d0>, <swda.Utterance object at 0x1a153740f0>, <swda.Utterance object at 0x1a15374208>, <swda.Utterance object at 0x1a14d84ef0>, <swda.Utterance object at 0x1a14d84f98>, <swda.Utterance object at 0x1a14d84e80>, <swda.Utterance object at 0x1a14d84be0>, <swda.Utterance object at 0x1a14d84c50>, <swda.Utterance object at 0x1a14d84908>, <swda.Utterance object at 0x1a14d84978>, <swda.Utterance object at 0x1a14d84668>, <swda.Utterance object at 0x1a14d846a0>, <swda.Utterance object at 0x1a14d84588>, <swda.Utterance object at 0x1a14d84470>, <swda.Utterance object at 0x1a14d84048>, <swda.Utterance object at 0x1a14d841d0>, <swda.Utterance object at 0x1a14d84ac8>, <swda.Utterance object at 0x1a14d65470>, <swda.Utterance object at 0x1a14d65400>, <swda.Utterance object at 0x1a14d65dd8>, <swda.Utterance object at 0x1a14d65e80>, <swda.Utterance object at 0x1a14d65eb8>, <swda.Utterance object at 0x1a14d65c50>, <swda.Utterance object at 0x1a14d65c18>, <swda.Utterance object at 0x1a14d65b00>, <swda.Utterance object at 0x1a14d656a0>, <swda.Utterance object at 0x1a14d65630>, <swda.Utterance object at 0x1a14d656d8>, <swda.Utterance object at 0x1a153a06a0>, <swda.Utterance object at 0x1a153a09b0>, <swda.Utterance object at 0x1a153a01d0>, <swda.Utterance object at 0x1a153a0390>, <swda.Utterance object at 0x1a153a0b38>, <swda.Utterance object at 0x1a1562bc50>, <swda.Utterance object at 0x1a1562bd68>, <swda.Utterance object at 0x1a1562be80>, <swda.Utterance object at 0x1a1562bf98>, <swda.Utterance object at 0x1a1541d0f0>, <swda.Utterance object at 0x1a1541d208>, <swda.Utterance object at 0x1a1541d320>, <swda.Utterance object at 0x1a1541d438>, <swda.Utterance object at 0x1a1541d550>, <swda.Utterance object at 0x1a1541d668>, <swda.Utterance object at 0x1a1541d780>, <swda.Utterance object at 0x1a1541d898>, <swda.Utterance object at 0x1a1541d9b0>, <swda.Utterance object at 0x1a1541dac8>, <swda.Utterance object at 0x1a1541dbe0>, <swda.Utterance object at 0x1a1541dcf8>, <swda.Utterance object at 0x1a1541de10>, <swda.Utterance object at 0x1a1541df28>, <swda.Utterance object at 0x1a15370080>, <swda.Utterance object at 0x1a15370198>, <swda.Utterance object at 0x1a153702b0>, <swda.Utterance object at 0x1a153703c8>, <swda.Utterance object at 0x1a153704e0>, <swda.Utterance object at 0x1a153705f8>, <swda.Utterance object at 0x1a15370710>, <swda.Utterance object at 0x1a15370828>, <swda.Utterance object at 0x1a15370940>, <swda.Utterance object at 0x1a15370978>, <swda.Utterance object at 0x1a15370a90>, <swda.Utterance object at 0x1a15370ba8>, <swda.Utterance object at 0x1a15370cc0>, <swda.Utterance object at 0x1a15370dd8>, <swda.Utterance object at 0x1a15370ef0>, <swda.Utterance object at 0x1a1536b048>, <swda.Utterance object at 0x1a1536b160>, <swda.Utterance object at 0x1a1536b278>, <swda.Utterance object at 0x1a1536b390>, <swda.Utterance object at 0x1a1536b4a8>, <swda.Utterance object at 0x1a1536b5c0>, <swda.Utterance object at 0x1a1536b6d8>, <swda.Utterance object at 0x1a1536b7f0>, <swda.Utterance object at 0x1a1536b908>, <swda.Utterance object at 0x1a1536ba20>, <swda.Utterance object at 0x1a1536bb38>, <swda.Utterance object at 0x1a1536bc50>, <swda.Utterance object at 0x1a1536bd68>, <swda.Utterance object at 0x1a1536be80>, <swda.Utterance object at 0x1a1536bf98>, <swda.Utterance object at 0x1a153670f0>, <swda.Utterance object at 0x1a15367208>, <swda.Utterance object at 0x1a15367320>, <swda.Utterance object at 0x1a15367438>, <swda.Utterance object at 0x1a15367470>, <swda.Utterance object at 0x1a15367588>, <swda.Utterance object at 0x1a153676a0>, <swda.Utterance object at 0x1a153677b8>, <swda.Utterance object at 0x1a153678d0>, <swda.Utterance object at 0x1a153679e8>, <swda.Utterance object at 0x1a15367b00>, <swda.Utterance object at 0x1a15367c18>, <swda.Utterance object at 0x1a15367d30>, <swda.Utterance object at 0x1a15367e48>, <swda.Utterance object at 0x1a15367f60>, <swda.Utterance object at 0x1a153660b8>, <swda.Utterance object at 0x1a153661d0>, <swda.Utterance object at 0x1a153662e8>, <swda.Utterance object at 0x1a15366400>, <swda.Utterance object at 0x1a15366518>, <swda.Utterance object at 0x1a15366630>, <swda.Utterance object at 0x1a15366748>, <swda.Utterance object at 0x1a15366860>, <swda.Utterance object at 0x1a15366978>, <swda.Utterance object at 0x1a15366a90>, <swda.Utterance object at 0x1a15366ba8>, <swda.Utterance object at 0x1a15366cc0>, <swda.Utterance object at 0x1a15366cf8>, <swda.Utterance object at 0x1a15366e10>, <swda.Utterance object at 0x1a15366f28>, <swda.Utterance object at 0x1a15362080>, <swda.Utterance object at 0x1a15362198>, <swda.Utterance object at 0x1a153622b0>, <swda.Utterance object at 0x1a153623c8>, <swda.Utterance object at 0x1a153624e0>, <swda.Utterance object at 0x1a153625f8>, <swda.Utterance object at 0x1a15362710>, <swda.Utterance object at 0x1a15362898>, <swda.Utterance object at 0x1a153629b0>, <swda.Utterance object at 0x1a15362ac8>, <swda.Utterance object at 0x1a15362be0>, <swda.Utterance object at 0x1a15362cf8>, <swda.Utterance object at 0x1a15362e10>, <swda.Utterance object at 0x1a15362f28>, <swda.Utterance object at 0x1a1535f080>, <swda.Utterance object at 0x1a1535f198>, <swda.Utterance object at 0x1a1535f2b0>, <swda.Utterance object at 0x1a1535f3c8>, <swda.Utterance object at 0x1a1535f4e0>, <swda.Utterance object at 0x1a1535f5f8>, <swda.Utterance object at 0x1a1535f710>, <swda.Utterance object at 0x1a1535f828>, <swda.Utterance object at 0x1a1535f940>, <swda.Utterance object at 0x1a1535fa58>, <swda.Utterance object at 0x1a1535fb70>, <swda.Utterance object at 0x1a1535fc88>, <swda.Utterance object at 0x1a1535fda0>, <swda.Utterance object at 0x1a1535feb8>, <swda.Utterance object at 0x1a1535ffd0>, <swda.Utterance object at 0x1a1535c128>, <swda.Utterance object at 0x1a1535c240>, <swda.Utterance object at 0x1a1535c358>, <swda.Utterance object at 0x1a1535c470>, <swda.Utterance object at 0x1a1535c588>, <swda.Utterance object at 0x1a1535c6a0>, <swda.Utterance object at 0x1a1535c7b8>, <swda.Utterance object at 0x1a1535c8d0>, <swda.Utterance object at 0x1a1535c9e8>, <swda.Utterance object at 0x1a1535cb00>, <swda.Utterance object at 0x1a1535cc18>, <swda.Utterance object at 0x1a1535cd30>, <swda.Utterance object at 0x1a1535ce48>, <swda.Utterance object at 0x1a1535cf60>]\n"
     ]
    }
   ],
   "source": [
    "utts = list(trans.utterances)"
   ]
  },
  {
   "cell_type": "code",
   "execution_count": 12,
   "metadata": {},
   "outputs": [
    {
     "ename": "NameError",
     "evalue": "name 'utts' is not defined",
     "traceback": [
      "\u001b[0;31m---------------------------------------------------------------------------\u001b[0m",
      "\u001b[0;31mNameError\u001b[0m                                 Traceback (most recent call last)",
      "\u001b[0;32m<ipython-input-12-bd63479551d4>\u001b[0m in \u001b[0;36m<module>\u001b[0;34m()\u001b[0m\n\u001b[0;32m----> 1\u001b[0;31m \u001b[0mprint\u001b[0m\u001b[0;34m(\u001b[0m\u001b[0mutts\u001b[0m\u001b[0;34m[\u001b[0m\u001b[0;36m1\u001b[0m\u001b[0;34m]\u001b[0m\u001b[0;34m.\u001b[0m\u001b[0mwords\u001b[0m\u001b[0;34m)\u001b[0m\u001b[0;34m\u001b[0m\u001b[0m\n\u001b[0m",
      "\u001b[0;31mNameError\u001b[0m: name 'utts' is not defined"
     ],
     "output_type": "error"
    }
   ],
   "source": [
    "print(utts[1].words)"
   ]
  },
  {
   "cell_type": "code",
   "execution_count": null,
   "metadata": {},
   "outputs": [],
   "source": []
  }
 ],
 "metadata": {
  "kernelspec": {
   "display_name": "Python 3",
   "language": "python",
   "name": "python3"
  },
  "language_info": {
   "codemirror_mode": {
    "name": "ipython",
    "version": 3
   },
   "file_extension": ".py",
   "mimetype": "text/x-python",
   "name": "python",
   "nbconvert_exporter": "python",
   "pygments_lexer": "ipython3",
   "version": "3.6.4"
  }
 },
 "nbformat": 4,
 "nbformat_minor": 2
}
