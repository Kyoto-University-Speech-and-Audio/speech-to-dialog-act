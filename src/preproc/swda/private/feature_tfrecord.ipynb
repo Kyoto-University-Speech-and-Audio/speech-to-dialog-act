{
 "cells": [
  {
   "cell_type": "code",
   "execution_count": 4,
   "metadata": {},
   "outputs": [],
   "source": [
    "import tensorflow as tf\n",
    "import numpy as np\n",
    "from tqdm import tqdm as tqdm"
   ]
  },
  {
   "cell_type": "code",
   "execution_count": 2,
   "metadata": {},
   "outputs": [],
   "source": [
    "with open(\"/n/sd7/trung/csp/data/swbd/model_outputs/swda_decoder_train.csv\") as f:\n",
    "    lines = f.read().split(\"\\n\")\n",
    "    lines = [(line.split('\\t')[2], line.split('\\t')[1]) for line in lines if line != \"\"]"
   ]
  },
  {
   "cell_type": "code",
   "execution_count": 3,
   "metadata": {},
   "outputs": [
    {
     "name": "stderr",
     "output_type": "stream",
     "text": [
      "100%|██████████| 200214/200214 [33:56<00:00, 98.30it/s]\n"
     ]
    }
   ],
   "source": [
    "tf_file = \"train.tfrecords\"\n",
    "writer = tf.python_io.TFRecordWriter(tf_file)\n",
    "\n",
    "for filename, predicted_text in tqdm(lines):\n",
    "    fea = np.load(\"/n/sd7/trung/csp/\" + filename).tobytes()\n",
    "    feature = {\n",
    "        'train/predicted_text': tf.train.Feature(int_list=tf.train.IntList(value=[predicted_text]))\n",
    "        'train/feature': tf.train.Feature(bytes_list=tf.train.BytesList(value=[fea]))\n",
    "    }\n",
    "    example = tf.train.Example(features=tf.train.Features(feature=feature))\n",
    "    writer.write(example.SerializeToString())\n",
    "writer.close()"
   ]
  },
  {
   "cell_type": "code",
   "execution_count": null,
   "metadata": {},
   "outputs": [],
   "source": []
  }
 ],
 "metadata": {
  "kernelspec": {
   "display_name": "Python 3",
   "language": "python",
   "name": "python3"
  },
  "language_info": {
   "codemirror_mode": {
    "name": "ipython",
    "version": 3
   },
   "file_extension": ".py",
   "mimetype": "text/x-python",
   "name": "python",
   "nbconvert_exporter": "python",
   "pygments_lexer": "ipython3",
   "version": "3.6.4"
  }
 },
 "nbformat": 4,
 "nbformat_minor": 2
}
