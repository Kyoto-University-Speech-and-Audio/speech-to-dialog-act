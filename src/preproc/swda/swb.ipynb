{
 "cells": [
  {
   "cell_type": "code",
<<<<<<< HEAD
   "execution_count": 56,
   "metadata": {},
   "outputs": [],
   "source": [
    "import os\n",
    "\n",
    "DATA_FOLDER = \"/n/sd7/trung/csp/data/swbd\""
   ]
  },
  {
   "cell_type": "code",
   "execution_count": 51,
   "metadata": {},
   "outputs": [],
   "source": [
    "with open(os.path.join(DATA_FOLDER, \"dataset/numpy/300h/train\", \"word_freq5.csv\")) as f:\n",
    "    lines = f.read().split('\\n')\n",
    "    lines = [line.split(',') for line in lines]\n",
    "    lines = [(line[2], line[3]) for line in lines if len(line) == 4]"
   ]
  },
  {
   "cell_type": "code",
   "execution_count": 52,
   "metadata": {},
   "outputs": [
    {
     "name": "stdout",
     "output_type": "stream",
     "text": [
      "278041\n"
     ]
    }
   ],
   "source": [
    "print(len(lines))"
   ]
  },
  {
   "cell_type": "code",
   "execution_count": 71,
   "metadata": {},
   "outputs": [],
   "source": [
    "dlgs = []\n",
    "for file in glob.glob(os.path.join(DATA_FOLDER, \"swda\", '**/*.csv')):\n",
    "    dlgid = os.path.basename(file).split('.')[0].split('_')[-1]\n",
    "    dlgs.append(dlgid)\n",
    "\n",
    "dlgs_test = dlgs[:20]\n",
    "dlgs_train = dlgs[20:]"
   ]
  },
  {
   "cell_type": "code",
   "execution_count": 72,
   "metadata": {},
   "outputs": [
    {
     "name": "stdout",
     "output_type": "stream",
     "text": [
      "1135\n"
     ]
    }
   ],
   "source": [
    "print(len(dlgs_train))"
   ]
  },
  {
   "cell_type": "code",
   "execution_count": 74,
   "metadata": {},
   "outputs": [
    {
     "name": "stdout",
     "output_type": "stream",
     "text": [
      "132364\n",
      "2733\n"
     ]
    }
   ],
   "source": [
    "for mode in [\"train\", \"test\"]:\n",
    "    dlgs = dlgs_train if mode == \"train\" else dlgs_test\n",
    "    lines_train = list(filter(lambda it: os.path.basename(it[0])[2:6] in dlgs, lines))\n",
    "    print(len(lines_train))\n",
    "    outputs = [\"%s %s\" % (line[0], line[1]) for line in lines_train]\n",
    "    if mode == \"train\":\n",
    "        outputs.sort(key=lambda s: len(s))\n",
    "    with open(os.path.join(DATA_FOLDER, \"inputs_baseline_%s.txt\" % mode), \"w\") as f:\n",
    "        f.write('\\n'.join(outputs))"
   ]
  },
  {
   "cell_type": "code",
=======
>>>>>>> b6edd63fc9a96dfcf8b01dcddc163ddf02ff295a
   "execution_count": null,
   "metadata": {},
   "outputs": [],
   "source": []
  }
 ],
 "metadata": {
  "kernelspec": {
   "display_name": "Python 3",
   "language": "python",
   "name": "python3"
  },
  "language_info": {
   "codemirror_mode": {
    "name": "ipython",
    "version": 3
   },
   "file_extension": ".py",
   "mimetype": "text/x-python",
   "name": "python",
   "nbconvert_exporter": "python",
   "pygments_lexer": "ipython3",
   "version": "3.6.4"
  }
 },
 "nbformat": 4,
 "nbformat_minor": 2
}
