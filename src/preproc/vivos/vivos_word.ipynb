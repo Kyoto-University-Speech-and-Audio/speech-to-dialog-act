{
 "cells": [
  {
   "cell_type": "code",
   "execution_count": 1,
   "metadata": {},
   "outputs": [
    {
     "name": "stderr",
     "output_type": "stream",
     "text": [
      "/home/trungdv/anaconda3/lib/python3.6/site-packages/h5py/__init__.py:36: FutureWarning: Conversion of the second argument of issubdtype from `float` to `np.floating` is deprecated. In future, it will be treated as `np.float64 == np.dtype(float).type`.\n",
      "  from ._conv import register_converters as _register_converters\n"
     ]
    }
   ],
   "source": [
    "import os\n",
    "from tensorflow.python.platform import gfile\n",
    "import scipy.io.wavfile as wav\n",
    "from python_speech_features import *\n",
    "import numpy as np\n",
    "from subprocess import call\n",
    "from struct import unpack, pack\n",
    "\n",
    "DATA_DIR = os.path.join(\"/n/sd7/trung/csp\", \"data\", \"vivos\")"
   ]
  },
  {
   "cell_type": "code",
   "execution_count": 2,
   "metadata": {},
   "outputs": [
    {
     "name": "stdout",
     "output_type": "stream",
     "text": [
      "4862\n"
     ]
    }
   ],
   "source": [
    "mode = \"train\"\n",
    "\n",
    "wset = set()\n",
    "with open(os.path.join(DATA_DIR, mode, \"prompts.txt\"), encoding=\"utf-8\") as f:\n",
    "    for s in f.read().split('\\n'):\n",
    "        words = s.split(' ')[1:]\n",
    "        for word in words: wset.add(word.lower())\n",
    "\n",
    "print(len(wset))\n",
    "with open(os.path.join(DATA_DIR, \"words.txt\"), \"w\", encoding=\"utf-8\") as f:\n",
    "    f.write(\"<unk> 0\\n<sos> 1\\n<eos> 2\\n\")\n",
    "    f.write(\"\\n\".join([\"%s %d\" % (word, i + 2) for i, word in\n",
    "        enumerate(list(wset)) if word != \"\"]))"
   ]
  },
  {
   "cell_type": "code",
   "execution_count": 3,
   "metadata": {},
   "outputs": [
    {
     "ename": "NameError",
     "evalue": "name 'd' is not defined",
     "output_type": "error",
     "traceback": [
      "\u001b[0;31m---------------------------------------------------------------------------\u001b[0m",
      "\u001b[0;31mNameError\u001b[0m                                 Traceback (most recent call last)",
      "\u001b[0;32m<ipython-input-3-b7d580c49a08>\u001b[0m in \u001b[0;36m<module>\u001b[0;34m()\u001b[0m\n\u001b[1;32m      8\u001b[0m         \u001b[0mfilename\u001b[0m \u001b[0;34m=\u001b[0m \u001b[0ms\u001b[0m\u001b[0;34m.\u001b[0m\u001b[0msplit\u001b[0m\u001b[0;34m(\u001b[0m\u001b[0;34m' '\u001b[0m\u001b[0;34m)\u001b[0m\u001b[0;34m[\u001b[0m\u001b[0;36m0\u001b[0m\u001b[0;34m]\u001b[0m\u001b[0;34m\u001b[0m\u001b[0m\n\u001b[1;32m      9\u001b[0m         \u001b[0;32mif\u001b[0m \u001b[0mfilename\u001b[0m \u001b[0;34m==\u001b[0m \u001b[0;34m\"\"\u001b[0m\u001b[0;34m:\u001b[0m \u001b[0;32mcontinue\u001b[0m\u001b[0;34m\u001b[0m\u001b[0m\n\u001b[0;32m---> 10\u001b[0;31m         \u001b[0md\u001b[0m\u001b[0;34m[\u001b[0m\u001b[0mfilename\u001b[0m\u001b[0;34m]\u001b[0m \u001b[0;34m=\u001b[0m \u001b[0;34m' '\u001b[0m\u001b[0;34m.\u001b[0m\u001b[0mjoin\u001b[0m\u001b[0;34m(\u001b[0m\u001b[0ms\u001b[0m\u001b[0;34m.\u001b[0m\u001b[0msplit\u001b[0m\u001b[0;34m(\u001b[0m\u001b[0;34m' '\u001b[0m\u001b[0;34m)\u001b[0m\u001b[0;34m[\u001b[0m\u001b[0;36m1\u001b[0m\u001b[0;34m:\u001b[0m\u001b[0;34m]\u001b[0m\u001b[0;34m)\u001b[0m\u001b[0;34m\u001b[0m\u001b[0m\n\u001b[0m\u001b[1;32m     11\u001b[0m         \u001b[0mwav_filename\u001b[0m \u001b[0;34m=\u001b[0m \u001b[0mos\u001b[0m\u001b[0;34m.\u001b[0m\u001b[0mpath\u001b[0m\u001b[0;34m.\u001b[0m\u001b[0mjoin\u001b[0m\u001b[0;34m(\u001b[0m\u001b[0mDATA_DIR\u001b[0m\u001b[0;34m,\u001b[0m \u001b[0;34m\"train\"\u001b[0m\u001b[0;34m,\u001b[0m \u001b[0;34m\"waves\"\u001b[0m\u001b[0;34m,\u001b[0m \u001b[0mfilename\u001b[0m\u001b[0;34m.\u001b[0m\u001b[0msplit\u001b[0m\u001b[0;34m(\u001b[0m\u001b[0;34m'_'\u001b[0m\u001b[0;34m)\u001b[0m\u001b[0;34m[\u001b[0m\u001b[0;36m0\u001b[0m\u001b[0;34m]\u001b[0m\u001b[0;34m,\u001b[0m \u001b[0mfilename\u001b[0m \u001b[0;34m+\u001b[0m \u001b[0;34m\".wav\"\u001b[0m\u001b[0;34m)\u001b[0m\u001b[0;34m\u001b[0m\u001b[0m\n\u001b[1;32m     12\u001b[0m         \u001b[0mnpy_filename\u001b[0m \u001b[0;34m=\u001b[0m \u001b[0mos\u001b[0m\u001b[0;34m.\u001b[0m\u001b[0mpath\u001b[0m\u001b[0;34m.\u001b[0m\u001b[0mjoin\u001b[0m\u001b[0;34m(\u001b[0m\u001b[0mDATA_DIR\u001b[0m\u001b[0;34m,\u001b[0m \u001b[0;34m\"train\"\u001b[0m\u001b[0;34m,\u001b[0m \u001b[0;34m\"npy\"\u001b[0m\u001b[0;34m,\u001b[0m \u001b[0mfilename\u001b[0m\u001b[0;34m.\u001b[0m\u001b[0msplit\u001b[0m\u001b[0;34m(\u001b[0m\u001b[0;34m'_'\u001b[0m\u001b[0;34m)\u001b[0m\u001b[0;34m[\u001b[0m\u001b[0;36m0\u001b[0m\u001b[0;34m]\u001b[0m\u001b[0;34m,\u001b[0m \u001b[0mfilename\u001b[0m \u001b[0;34m+\u001b[0m \u001b[0;34m\".npy\"\u001b[0m\u001b[0;34m)\u001b[0m\u001b[0;34m\u001b[0m\u001b[0m\n",
      "\u001b[0;31mNameError\u001b[0m: name 'd' is not defined"
     ]
    }
   ],
   "source": [
    "# get mean\n",
    "mean = np.array([0] * 120)\n",
    "var = np.array([0] * 120)\n",
    "count = 0\n",
    "with open(os.path.join(DATA_DIR, \"train\", \"prompts.txt\"), encoding=\"utf-8\") as f:\n",
    "    lines = f.read().split(\"\\n\")\n",
    "    for i, s in enumerate(lines):\n",
    "        filename = s.split(' ')[0]\n",
    "        if filename == \"\": continue\n",
    "        d[filename] = ' '.join(s.split(' ')[1:])\n",
    "        wav_filename = os.path.join(DATA_DIR, \"train\", \"waves\", filename.split('_')[0], filename + \".wav\")\n",
    "        npy_filename = os.path.join(DATA_DIR, \"train\", \"npy\", filename.split('_')[0], filename + \".npy\")\n",
    "        (rate, sig) = wav.read(wav_filename)\n",
    "\n",
    "        filename = os.path.join(DATA_DIR, \"train\", \"feature\", filename + \".htk\")\n",
    "        call([\n",
    "            \"/n/sd7/trung/bin/htk/HTKTools/HCopy\",\n",
    "            wav_filename,\n",
    "            filename,\n",
    "            \"-C\", \"/n/sd7/trung/config.lmfb.40ch\"\n",
    "        ])\n",
    "        fh = open(filename, \"rb\")\n",
    "        spam = fh.read(12)\n",
    "        nSamples, sampPeriod, sampSize, parmKind = unpack(\">IIHH\", spam)\n",
    "        veclen = int(sampSize / 4)\n",
    "        fh.seek(12, 0)\n",
    "        dat = np.fromfile(fh, dtype=np.float32)\n",
    "        dat = dat.reshape(len(dat) // veclen, veclen)\n",
    "        dat = dat.byteswap()\n",
    "        fh.close()\n",
    "        \n",
    "        for k in range(len(dat)):\n",
    "            updated_mean = (mean * count + dat[k]) / (count + 1)\n",
    "            var = (count * var + (dat[k] - mean) * (dat[k] - updated_mean)) / (count + 1)\n",
    "            mean = updated_mean\n",
    "            count += 1\n",
    "\n",
    "        outputs.append(\n",
    "            (npy_filename,\n",
    "            ' '.join(['2'] + [words[w.lower()] if w.lower() in words else \\\n",
    "                '0' for w in s.split(' ')[1:]] + ['1']))\n",
    "        )\n",
    "            \n",
    "        if i % 100 == 1: print(\"%d / %d\" % (i, len(lines)))\n",
    "            \n",
    "np.save(os.path.join(DATA_DIR, \"mean.npy\"), mean)\n",
    "np.save(os.path.join(DATA_DIR, \"var.npy\"), var)\n",
    "print(mean)"
   ]
  },
  {
   "cell_type": "code",
   "execution_count": 6,
   "metadata": {},
   "outputs": [],
   "source": [
    "mean = np.load(os.path.join(DATA_DIR, \"mean.npy\"))\n",
    "var = np.load(os.path.join(DATA_DIR, \"var.npy\"))\n",
    "\n",
    "def get_features_npy(infile, outfile):\n",
    "    fh = open(infile, \"rb\")\n",
    "    spam = fh.read(12)\n",
    "    nSamples, sampPeriod, sampSize, parmKind = unpack(\">IIHH\", spam)\n",
    "    veclen = int(sampSize / 4)\n",
    "    fh.seek(12, 0)\n",
    "    dat = np.fromfile(fh, dtype=np.float32)\n",
    "    dat = dat.reshape(len(dat) // veclen, veclen)\n",
    "    dat = dat.byteswap()\n",
    "    fh.close()\n",
    "    \n",
    "    dat = (dat - mean) / np.sqrt(var)\n",
    "    # print(len(dat), dat)\n",
    "    np.save(outfile, dat)"
   ]
  },
  {
   "cell_type": "code",
   "execution_count": 7,
   "metadata": {},
   "outputs": [
    {
     "name": "stdout",
     "output_type": "stream",
     "text": [
      "1 / 761\n",
      "101 / 761\n",
      "201 / 761\n",
      "301 / 761\n",
      "401 / 761\n",
      "501 / 761\n",
      "601 / 761\n",
      "701 / 761\n"
     ]
    }
   ],
   "source": [
    "mode = \"test\"\n",
    "\n",
    "d = {}\n",
    "words = open(os.path.join(DATA_DIR, \"words.txt\")).read().split('\\n')\n",
    "words = { word.split(' ')[0]: word.split(' ')[1] for word in words if word != \"\"}\n",
    "outputs = []\n",
    "with open(os.path.join(DATA_DIR, mode, \"prompts.txt\"), encoding=\"utf-8\") as f:\n",
    "    lines = f.read().split(\"\\n\")\n",
    "    for i, s in enumerate(lines):\n",
    "        filename = s.split(' ')[0]\n",
    "        if filename == \"\": continue\n",
    "        d[filename] = ' '.join(s.split(' ')[1:])\n",
    "        wav_filename = os.path.join(DATA_DIR, mode, \"waves\", filename.split('_')[0], filename + \".wav\")\n",
    "        npy_filename = os.path.join(DATA_DIR, mode, \"npy\", filename + \".npy\")\n",
    "        (rate, sig) = wav.read(wav_filename)\n",
    "\n",
    "        filename = os.path.join(DATA_DIR, mode, \"feature\", filename + \".htk\")\n",
    "        #call([\n",
    "        #    \"/n/sd7/trung/bin/htk/HTKTools/HCopy\",\n",
    "        #    \"-C\", \"/n/sd7/trung/config.lmfb.40ch\", \"-T\", \"1\",\n",
    "        #    wav_filename, filename\n",
    "        #])\n",
    "        get_features_npy(filename, npy_filename)\n",
    "\n",
    "        outputs.append(\n",
    "            (npy_filename,\n",
    "            ' '.join(['2'] + [words[w.lower()] if w.lower() in words else \\\n",
    "                '0' for w in s.split(' ')[1:]] + ['1']))\n",
    "        )\n",
    "            \n",
    "        if i % 100 == 1: print(\"%d / %d\" % (i, len(lines)))\n",
    "\n",
    "outputs.sort(key=lambda x: len(x[1]))\n",
    "with open(os.path.join(DATA_DIR, mode, \"data.txt\"), \"w\", encoding=\"utf-8\") as f:\n",
    "        f.write('\\n'.join([\"%s %s\" % (fn, tg) for fn, tg in outputs]))"
   ]
  },
  {
   "cell_type": "code",
   "execution_count": null,
   "metadata": {},
   "outputs": [],
   "source": []
  }
 ],
 "metadata": {
  "kernelspec": {
   "display_name": "Python 3",
   "language": "python",
   "name": "python3"
  },
  "language_info": {
   "codemirror_mode": {
    "name": "ipython",
    "version": 3
   },
   "file_extension": ".py",
   "mimetype": "text/x-python",
   "name": "python",
   "nbconvert_exporter": "python",
   "pygments_lexer": "ipython3",
   "version": "3.6.4"
  }
 },
 "nbformat": 4,
 "nbformat_minor": 2
}
