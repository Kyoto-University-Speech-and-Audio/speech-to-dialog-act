{
 "cells": [
  {
   "cell_type": "code",
   "execution_count": 1,
   "metadata": {},
   "outputs": [
    {
     "name": "stderr",
     "output_type": "stream",
     "text": [
      "/home/trungdv/anaconda3/lib/python3.6/site-packages/h5py/__init__.py:36: FutureWarning: Conversion of the second argument of issubdtype from `float` to `np.floating` is deprecated. In future, it will be treated as `np.float64 == np.dtype(float).type`.\n",
      "  from ._conv import register_converters as _register_converters\n"
     ]
    },
    {
     "ename": "TypeError",
     "evalue": "print_tensors_in_checkpoint_file() missing 3 required positional arguments: 'tensor_name', 'all_tensors', and 'all_tensor_names'",
     "output_type": "error",
     "traceback": [
      "\u001b[0;31m---------------------------------------------------------------------------\u001b[0m",
      "\u001b[0;31mTypeError\u001b[0m                                 Traceback (most recent call last)",
      "\u001b[0;32m<ipython-input-1-6033ddb8ba3f>\u001b[0m in \u001b[0;36m<module>\u001b[0;34m()\u001b[0m\n\u001b[1;32m      1\u001b[0m \u001b[0;32mfrom\u001b[0m \u001b[0mtensorflow\u001b[0m\u001b[0;34m.\u001b[0m\u001b[0mpython\u001b[0m\u001b[0;34m.\u001b[0m\u001b[0mtools\u001b[0m\u001b[0;34m.\u001b[0m\u001b[0minspect_checkpoint\u001b[0m \u001b[0;32mimport\u001b[0m \u001b[0mprint_tensors_in_checkpoint_file\u001b[0m\u001b[0;34m\u001b[0m\u001b[0m\n\u001b[0;32m----> 2\u001b[0;31m \u001b[0mprint_tensors_in_checkpoint_file\u001b[0m\u001b[0;34m(\u001b[0m\u001b[0;34m'../save_models/da_attention_seg/csp.best_0.ckpt'\u001b[0m\u001b[0;34m)\u001b[0m\u001b[0;34m\u001b[0m\u001b[0m\n\u001b[0m",
      "\u001b[0;31mTypeError\u001b[0m: print_tensors_in_checkpoint_file() missing 3 required positional arguments: 'tensor_name', 'all_tensors', and 'all_tensor_names'"
     ]
    }
   ],
   "source": [
    "from tensorflow.python.tools.inspect_checkpoint import print_tensors_in_checkpoint_file"
   ]
  },
  {
   "cell_type": "code",
   "execution_count": 6,
   "metadata": {},
   "outputs": [
    {
     "name": "stdout",
     "output_type": "stream",
     "text": [
      "tensor_name:  Variable\n",
      "tensor_name:  Variable_1\n",
      "tensor_name:  apply_gradients/beta1_power\n",
      "tensor_name:  apply_gradients/beta2_power\n",
      "tensor_name:  batch_size\n",
      "tensor_name:  decoder/attention_wrapper/attention_layer/kernel\n",
      "tensor_name:  decoder/attention_wrapper/attention_layer/kernel/Adam\n",
      "tensor_name:  decoder/attention_wrapper/attention_layer/kernel/Adam_1\n",
      "tensor_name:  decoder/attention_wrapper/custom_attention/attention_v\n",
      "tensor_name:  decoder/attention_wrapper/custom_attention/attention_v/Adam\n",
      "tensor_name:  decoder/attention_wrapper/custom_attention/attention_v/Adam_1\n",
      "tensor_name:  decoder/attention_wrapper/custom_attention/location_conv/kernel\n",
      "tensor_name:  decoder/attention_wrapper/custom_attention/location_conv/kernel/Adam\n",
      "tensor_name:  decoder/attention_wrapper/custom_attention/location_conv/kernel/Adam_1\n",
      "tensor_name:  decoder/attention_wrapper/custom_attention/location_layer/kernel\n",
      "tensor_name:  decoder/attention_wrapper/custom_attention/location_layer/kernel/Adam\n",
      "tensor_name:  decoder/attention_wrapper/custom_attention/location_layer/kernel/Adam_1\n",
      "tensor_name:  decoder/attention_wrapper/custom_attention/query_layer/kernel\n",
      "tensor_name:  decoder/attention_wrapper/custom_attention/query_layer/kernel/Adam\n",
      "tensor_name:  decoder/attention_wrapper/custom_attention/query_layer/kernel/Adam_1\n",
      "tensor_name:  decoder/attention_wrapper/multi_rnn_cell/cell_0/basic_lstm_cell/bias\n",
      "tensor_name:  decoder/attention_wrapper/multi_rnn_cell/cell_0/basic_lstm_cell/bias/Adam\n",
      "tensor_name:  decoder/attention_wrapper/multi_rnn_cell/cell_0/basic_lstm_cell/bias/Adam_1\n",
      "tensor_name:  decoder/attention_wrapper/multi_rnn_cell/cell_0/basic_lstm_cell/kernel\n",
      "tensor_name:  decoder/attention_wrapper/multi_rnn_cell/cell_0/basic_lstm_cell/kernel/Adam\n",
      "tensor_name:  decoder/attention_wrapper/multi_rnn_cell/cell_0/basic_lstm_cell/kernel/Adam_1\n",
      "tensor_name:  decoder/attention_wrapper/multi_rnn_cell/cell_1/basic_lstm_cell/bias\n",
      "tensor_name:  decoder/attention_wrapper/multi_rnn_cell/cell_1/basic_lstm_cell/bias/Adam\n",
      "tensor_name:  decoder/attention_wrapper/multi_rnn_cell/cell_1/basic_lstm_cell/bias/Adam_1\n",
      "tensor_name:  decoder/attention_wrapper/multi_rnn_cell/cell_1/basic_lstm_cell/kernel\n",
      "tensor_name:  decoder/attention_wrapper/multi_rnn_cell/cell_1/basic_lstm_cell/kernel/Adam\n",
      "tensor_name:  decoder/attention_wrapper/multi_rnn_cell/cell_1/basic_lstm_cell/kernel/Adam_1\n",
      "tensor_name:  decoder/decoder_emb_layer/bias\n",
      "tensor_name:  decoder/decoder_emb_layer/bias/Adam\n",
      "tensor_name:  decoder/decoder_emb_layer/bias/Adam_1\n",
      "tensor_name:  decoder/decoder_emb_layer/kernel\n",
      "tensor_name:  decoder/decoder_emb_layer/kernel/Adam\n",
      "tensor_name:  decoder/decoder_emb_layer/kernel/Adam_1\n",
      "tensor_name:  decoder/memory_layer/kernel\n",
      "tensor_name:  decoder/memory_layer/kernel/Adam\n",
      "tensor_name:  decoder/memory_layer/kernel/Adam_1\n",
      "tensor_name:  decoder/output_projection/kernel\n",
      "tensor_name:  decoder/output_projection/kernel/Adam\n",
      "tensor_name:  decoder/output_projection/kernel/Adam_1\n",
      "tensor_name:  encoder/stack_p_bidirectional_rnn/cell_0/bidirectional_rnn/bw/basic_lstm_cell/bias\n",
      "tensor_name:  encoder/stack_p_bidirectional_rnn/cell_0/bidirectional_rnn/bw/basic_lstm_cell/bias/Adam\n",
      "tensor_name:  encoder/stack_p_bidirectional_rnn/cell_0/bidirectional_rnn/bw/basic_lstm_cell/bias/Adam_1\n",
      "tensor_name:  encoder/stack_p_bidirectional_rnn/cell_0/bidirectional_rnn/bw/basic_lstm_cell/kernel\n",
      "tensor_name:  encoder/stack_p_bidirectional_rnn/cell_0/bidirectional_rnn/bw/basic_lstm_cell/kernel/Adam\n",
      "tensor_name:  encoder/stack_p_bidirectional_rnn/cell_0/bidirectional_rnn/bw/basic_lstm_cell/kernel/Adam_1\n",
      "tensor_name:  encoder/stack_p_bidirectional_rnn/cell_0/bidirectional_rnn/fw/basic_lstm_cell/bias\n",
      "tensor_name:  encoder/stack_p_bidirectional_rnn/cell_0/bidirectional_rnn/fw/basic_lstm_cell/bias/Adam\n",
      "tensor_name:  encoder/stack_p_bidirectional_rnn/cell_0/bidirectional_rnn/fw/basic_lstm_cell/bias/Adam_1\n",
      "tensor_name:  encoder/stack_p_bidirectional_rnn/cell_0/bidirectional_rnn/fw/basic_lstm_cell/kernel\n",
      "tensor_name:  encoder/stack_p_bidirectional_rnn/cell_0/bidirectional_rnn/fw/basic_lstm_cell/kernel/Adam\n",
      "tensor_name:  encoder/stack_p_bidirectional_rnn/cell_0/bidirectional_rnn/fw/basic_lstm_cell/kernel/Adam_1\n",
      "tensor_name:  encoder/stack_p_bidirectional_rnn/cell_1/bidirectional_rnn/bw/basic_lstm_cell/bias\n",
      "tensor_name:  encoder/stack_p_bidirectional_rnn/cell_1/bidirectional_rnn/bw/basic_lstm_cell/bias/Adam\n",
      "tensor_name:  encoder/stack_p_bidirectional_rnn/cell_1/bidirectional_rnn/bw/basic_lstm_cell/bias/Adam_1\n",
      "tensor_name:  encoder/stack_p_bidirectional_rnn/cell_1/bidirectional_rnn/bw/basic_lstm_cell/kernel\n",
      "tensor_name:  encoder/stack_p_bidirectional_rnn/cell_1/bidirectional_rnn/bw/basic_lstm_cell/kernel/Adam\n",
      "tensor_name:  encoder/stack_p_bidirectional_rnn/cell_1/bidirectional_rnn/bw/basic_lstm_cell/kernel/Adam_1\n",
      "tensor_name:  encoder/stack_p_bidirectional_rnn/cell_1/bidirectional_rnn/fw/basic_lstm_cell/bias\n",
      "tensor_name:  encoder/stack_p_bidirectional_rnn/cell_1/bidirectional_rnn/fw/basic_lstm_cell/bias/Adam\n",
      "tensor_name:  encoder/stack_p_bidirectional_rnn/cell_1/bidirectional_rnn/fw/basic_lstm_cell/bias/Adam_1\n",
      "tensor_name:  encoder/stack_p_bidirectional_rnn/cell_1/bidirectional_rnn/fw/basic_lstm_cell/kernel\n",
      "tensor_name:  encoder/stack_p_bidirectional_rnn/cell_1/bidirectional_rnn/fw/basic_lstm_cell/kernel/Adam\n",
      "tensor_name:  encoder/stack_p_bidirectional_rnn/cell_1/bidirectional_rnn/fw/basic_lstm_cell/kernel/Adam_1\n",
      "tensor_name:  encoder/stack_p_bidirectional_rnn/cell_2/bidirectional_rnn/bw/basic_lstm_cell/bias\n",
      "tensor_name:  encoder/stack_p_bidirectional_rnn/cell_2/bidirectional_rnn/bw/basic_lstm_cell/bias/Adam\n",
      "tensor_name:  encoder/stack_p_bidirectional_rnn/cell_2/bidirectional_rnn/bw/basic_lstm_cell/bias/Adam_1\n",
      "tensor_name:  encoder/stack_p_bidirectional_rnn/cell_2/bidirectional_rnn/bw/basic_lstm_cell/kernel\n",
      "tensor_name:  encoder/stack_p_bidirectional_rnn/cell_2/bidirectional_rnn/bw/basic_lstm_cell/kernel/Adam\n",
      "tensor_name:  encoder/stack_p_bidirectional_rnn/cell_2/bidirectional_rnn/bw/basic_lstm_cell/kernel/Adam_1\n",
      "tensor_name:  encoder/stack_p_bidirectional_rnn/cell_2/bidirectional_rnn/fw/basic_lstm_cell/bias\n",
      "tensor_name:  encoder/stack_p_bidirectional_rnn/cell_2/bidirectional_rnn/fw/basic_lstm_cell/bias/Adam\n",
      "tensor_name:  encoder/stack_p_bidirectional_rnn/cell_2/bidirectional_rnn/fw/basic_lstm_cell/bias/Adam_1\n",
      "tensor_name:  encoder/stack_p_bidirectional_rnn/cell_2/bidirectional_rnn/fw/basic_lstm_cell/kernel\n",
      "tensor_name:  encoder/stack_p_bidirectional_rnn/cell_2/bidirectional_rnn/fw/basic_lstm_cell/kernel/Adam\n",
      "tensor_name:  encoder/stack_p_bidirectional_rnn/cell_2/bidirectional_rnn/fw/basic_lstm_cell/kernel/Adam_1\n",
      "tensor_name:  eval_batch_size\n"
     ]
    }
   ],
   "source": [
    "print_tensors_in_checkpoint_file('../saved_models/asr_swda/csp.best_0.ckpt', tensor_name='', all_tensors=False, all_tensor_names=True)"
   ]
  },
  {
   "cell_type": "code",
   "execution_count": null,
   "metadata": {},
   "outputs": [],
   "source": []
  }
 ],
 "metadata": {
  "kernelspec": {
   "display_name": "Python 3",
   "language": "python",
   "name": "python3"
  },
  "language_info": {
   "codemirror_mode": {
    "name": "ipython",
    "version": 3
   },
   "file_extension": ".py",
   "mimetype": "text/x-python",
   "name": "python",
   "nbconvert_exporter": "python",
   "pygments_lexer": "ipython3",
   "version": "3.6.4"
  }
 },
 "nbformat": 4,
 "nbformat_minor": 2
}
