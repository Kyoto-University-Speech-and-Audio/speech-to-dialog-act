{
 "cells": [
  {
   "cell_type": "code",
   "execution_count": 1,
   "metadata": {},
   "outputs": [
    {
     "name": "stderr",
     "output_type": "stream",
     "text": [
      "/home/trungdv/anaconda3/lib/python3.6/site-packages/h5py/__init__.py:36: FutureWarning: Conversion of the second argument of issubdtype from `float` to `np.floating` is deprecated. In future, it will be treated as `np.float64 == np.dtype(float).type`.\n",
      "  from ._conv import register_converters as _register_converters\n"
     ]
    }
   ],
   "source": [
    "import tensorflow as tf"
   ]
  },
  {
   "cell_type": "code",
   "execution_count": 11,
   "metadata": {},
   "outputs": [
    {
     "name": "stdout",
     "output_type": "stream",
     "text": [
      "Variable\t<tf.Variable 'Variable:0' shape=() dtype=int32_ref>\n",
      "stack_bidirectional_rnn/cell_0/bidirectional_rnn/fw/basic_lstm_cell/kernel\t<tf.Variable 'stack_bidirectional_rnn/cell_0/bidirectional_rnn/fw/basic_lstm_cell/kernel:0' shape=(440, 1280) dtype=float32_ref>\n",
      "stack_bidirectional_rnn/cell_0/bidirectional_rnn/fw/basic_lstm_cell/bias\t<tf.Variable 'stack_bidirectional_rnn/cell_0/bidirectional_rnn/fw/basic_lstm_cell/bias:0' shape=(1280,) dtype=float32_ref>\n",
      "stack_bidirectional_rnn/cell_0/bidirectional_rnn/bw/basic_lstm_cell/kernel\t<tf.Variable 'stack_bidirectional_rnn/cell_0/bidirectional_rnn/bw/basic_lstm_cell/kernel:0' shape=(440, 1280) dtype=float32_ref>\n",
      "stack_bidirectional_rnn/cell_0/bidirectional_rnn/bw/basic_lstm_cell/bias\t<tf.Variable 'stack_bidirectional_rnn/cell_0/bidirectional_rnn/bw/basic_lstm_cell/bias:0' shape=(1280,) dtype=float32_ref>\n",
      "stack_bidirectional_rnn/cell_1/bidirectional_rnn/fw/basic_lstm_cell/kernel\t<tf.Variable 'stack_bidirectional_rnn/cell_1/bidirectional_rnn/fw/basic_lstm_cell/kernel:0' shape=(960, 1280) dtype=float32_ref>\n",
      "stack_bidirectional_rnn/cell_1/bidirectional_rnn/fw/basic_lstm_cell/bias\t<tf.Variable 'stack_bidirectional_rnn/cell_1/bidirectional_rnn/fw/basic_lstm_cell/bias:0' shape=(1280,) dtype=float32_ref>\n",
      "stack_bidirectional_rnn/cell_1/bidirectional_rnn/bw/basic_lstm_cell/kernel\t<tf.Variable 'stack_bidirectional_rnn/cell_1/bidirectional_rnn/bw/basic_lstm_cell/kernel:0' shape=(960, 1280) dtype=float32_ref>\n",
      "stack_bidirectional_rnn/cell_1/bidirectional_rnn/bw/basic_lstm_cell/bias\t<tf.Variable 'stack_bidirectional_rnn/cell_1/bidirectional_rnn/bw/basic_lstm_cell/bias:0' shape=(1280,) dtype=float32_ref>\n",
      "stack_bidirectional_rnn/cell_2/bidirectional_rnn/fw/basic_lstm_cell/kernel\t<tf.Variable 'stack_bidirectional_rnn/cell_2/bidirectional_rnn/fw/basic_lstm_cell/kernel:0' shape=(960, 1280) dtype=float32_ref>\n",
      "stack_bidirectional_rnn/cell_2/bidirectional_rnn/fw/basic_lstm_cell/bias\t<tf.Variable 'stack_bidirectional_rnn/cell_2/bidirectional_rnn/fw/basic_lstm_cell/bias:0' shape=(1280,) dtype=float32_ref>\n",
      "stack_bidirectional_rnn/cell_2/bidirectional_rnn/bw/basic_lstm_cell/kernel\t<tf.Variable 'stack_bidirectional_rnn/cell_2/bidirectional_rnn/bw/basic_lstm_cell/kernel:0' shape=(960, 1280) dtype=float32_ref>\n",
      "stack_bidirectional_rnn/cell_2/bidirectional_rnn/bw/basic_lstm_cell/bias\t<tf.Variable 'stack_bidirectional_rnn/cell_2/bidirectional_rnn/bw/basic_lstm_cell/bias:0' shape=(1280,) dtype=float32_ref>\n",
      "decoder/memory_layer/kernel\t<tf.Variable 'decoder/memory_layer/kernel:0' shape=(640, 640) dtype=float32_ref>\n",
      "decoder/attention_wrapper/basic_lstm_cell/kernel\t<tf.Variable 'decoder/attention_wrapper/basic_lstm_cell/kernel:0' shape=(1920, 2560) dtype=float32_ref>\n",
      "decoder/attention_wrapper/basic_lstm_cell/bias\t<tf.Variable 'decoder/attention_wrapper/basic_lstm_cell/bias:0' shape=(2560,) dtype=float32_ref>\n",
      "decoder/attention_wrapper/custom_attention/query_layer/kernel\t<tf.Variable 'decoder/attention_wrapper/custom_attention/query_layer/kernel:0' shape=(640, 640) dtype=float32_ref>\n",
      "decoder/attention_wrapper/custom_attention/location_conv/kernel\t<tf.Variable 'decoder/attention_wrapper/custom_attention/location_conv/kernel:0' shape=(10, 1, 201) dtype=float32_ref>\n",
      "decoder/attention_wrapper/custom_attention/location_layer/kernel\t<tf.Variable 'decoder/attention_wrapper/custom_attention/location_layer/kernel:0' shape=(201, 640) dtype=float32_ref>\n",
      "decoder/attention_wrapper/custom_attention/attention_v\t<tf.Variable 'decoder/attention_wrapper/custom_attention/attention_v:0' shape=(640,) dtype=float32_ref>\n",
      "decoder/attention_wrapper/attention_layer/kernel\t<tf.Variable 'decoder/attention_wrapper/attention_layer/kernel:0' shape=(1280, 640) dtype=float32_ref>\n",
      "decoder/output_projection/kernel\t<tf.Variable 'decoder/output_projection/kernel:0' shape=(640, 34331) dtype=float32_ref>\n",
      "beta1_power\t<tf.Variable 'beta1_power:0' shape=() dtype=float32_ref>\n",
      "beta2_power\t<tf.Variable 'beta2_power:0' shape=() dtype=float32_ref>\n",
      "stack_bidirectional_rnn/cell_0/bidirectional_rnn/fw/basic_lstm_cell/kernel/Adam\t<tf.Variable 'stack_bidirectional_rnn/cell_0/bidirectional_rnn/fw/basic_lstm_cell/kernel/Adam:0' shape=(440, 1280) dtype=float32_ref>\n",
      "stack_bidirectional_rnn/cell_0/bidirectional_rnn/fw/basic_lstm_cell/kernel/Adam_1\t<tf.Variable 'stack_bidirectional_rnn/cell_0/bidirectional_rnn/fw/basic_lstm_cell/kernel/Adam_1:0' shape=(440, 1280) dtype=float32_ref>\n",
      "stack_bidirectional_rnn/cell_0/bidirectional_rnn/fw/basic_lstm_cell/bias/Adam\t<tf.Variable 'stack_bidirectional_rnn/cell_0/bidirectional_rnn/fw/basic_lstm_cell/bias/Adam:0' shape=(1280,) dtype=float32_ref>\n",
      "stack_bidirectional_rnn/cell_0/bidirectional_rnn/fw/basic_lstm_cell/bias/Adam_1\t<tf.Variable 'stack_bidirectional_rnn/cell_0/bidirectional_rnn/fw/basic_lstm_cell/bias/Adam_1:0' shape=(1280,) dtype=float32_ref>\n",
      "stack_bidirectional_rnn/cell_0/bidirectional_rnn/bw/basic_lstm_cell/kernel/Adam\t<tf.Variable 'stack_bidirectional_rnn/cell_0/bidirectional_rnn/bw/basic_lstm_cell/kernel/Adam:0' shape=(440, 1280) dtype=float32_ref>\n",
      "stack_bidirectional_rnn/cell_0/bidirectional_rnn/bw/basic_lstm_cell/kernel/Adam_1\t<tf.Variable 'stack_bidirectional_rnn/cell_0/bidirectional_rnn/bw/basic_lstm_cell/kernel/Adam_1:0' shape=(440, 1280) dtype=float32_ref>\n",
      "stack_bidirectional_rnn/cell_0/bidirectional_rnn/bw/basic_lstm_cell/bias/Adam\t<tf.Variable 'stack_bidirectional_rnn/cell_0/bidirectional_rnn/bw/basic_lstm_cell/bias/Adam:0' shape=(1280,) dtype=float32_ref>\n",
      "stack_bidirectional_rnn/cell_0/bidirectional_rnn/bw/basic_lstm_cell/bias/Adam_1\t<tf.Variable 'stack_bidirectional_rnn/cell_0/bidirectional_rnn/bw/basic_lstm_cell/bias/Adam_1:0' shape=(1280,) dtype=float32_ref>\n",
      "stack_bidirectional_rnn/cell_1/bidirectional_rnn/fw/basic_lstm_cell/kernel/Adam\t<tf.Variable 'stack_bidirectional_rnn/cell_1/bidirectional_rnn/fw/basic_lstm_cell/kernel/Adam:0' shape=(960, 1280) dtype=float32_ref>\n",
      "stack_bidirectional_rnn/cell_1/bidirectional_rnn/fw/basic_lstm_cell/kernel/Adam_1\t<tf.Variable 'stack_bidirectional_rnn/cell_1/bidirectional_rnn/fw/basic_lstm_cell/kernel/Adam_1:0' shape=(960, 1280) dtype=float32_ref>\n",
      "stack_bidirectional_rnn/cell_1/bidirectional_rnn/fw/basic_lstm_cell/bias/Adam\t<tf.Variable 'stack_bidirectional_rnn/cell_1/bidirectional_rnn/fw/basic_lstm_cell/bias/Adam:0' shape=(1280,) dtype=float32_ref>\n",
      "stack_bidirectional_rnn/cell_1/bidirectional_rnn/fw/basic_lstm_cell/bias/Adam_1\t<tf.Variable 'stack_bidirectional_rnn/cell_1/bidirectional_rnn/fw/basic_lstm_cell/bias/Adam_1:0' shape=(1280,) dtype=float32_ref>\n",
      "stack_bidirectional_rnn/cell_1/bidirectional_rnn/bw/basic_lstm_cell/kernel/Adam\t<tf.Variable 'stack_bidirectional_rnn/cell_1/bidirectional_rnn/bw/basic_lstm_cell/kernel/Adam:0' shape=(960, 1280) dtype=float32_ref>\n",
      "stack_bidirectional_rnn/cell_1/bidirectional_rnn/bw/basic_lstm_cell/kernel/Adam_1\t<tf.Variable 'stack_bidirectional_rnn/cell_1/bidirectional_rnn/bw/basic_lstm_cell/kernel/Adam_1:0' shape=(960, 1280) dtype=float32_ref>\n",
      "stack_bidirectional_rnn/cell_1/bidirectional_rnn/bw/basic_lstm_cell/bias/Adam\t<tf.Variable 'stack_bidirectional_rnn/cell_1/bidirectional_rnn/bw/basic_lstm_cell/bias/Adam:0' shape=(1280,) dtype=float32_ref>\n",
      "stack_bidirectional_rnn/cell_1/bidirectional_rnn/bw/basic_lstm_cell/bias/Adam_1\t<tf.Variable 'stack_bidirectional_rnn/cell_1/bidirectional_rnn/bw/basic_lstm_cell/bias/Adam_1:0' shape=(1280,) dtype=float32_ref>\n",
      "stack_bidirectional_rnn/cell_2/bidirectional_rnn/fw/basic_lstm_cell/kernel/Adam\t<tf.Variable 'stack_bidirectional_rnn/cell_2/bidirectional_rnn/fw/basic_lstm_cell/kernel/Adam:0' shape=(960, 1280) dtype=float32_ref>\n",
      "stack_bidirectional_rnn/cell_2/bidirectional_rnn/fw/basic_lstm_cell/kernel/Adam_1\t<tf.Variable 'stack_bidirectional_rnn/cell_2/bidirectional_rnn/fw/basic_lstm_cell/kernel/Adam_1:0' shape=(960, 1280) dtype=float32_ref>\n",
      "stack_bidirectional_rnn/cell_2/bidirectional_rnn/fw/basic_lstm_cell/bias/Adam\t<tf.Variable 'stack_bidirectional_rnn/cell_2/bidirectional_rnn/fw/basic_lstm_cell/bias/Adam:0' shape=(1280,) dtype=float32_ref>\n",
      "stack_bidirectional_rnn/cell_2/bidirectional_rnn/fw/basic_lstm_cell/bias/Adam_1\t<tf.Variable 'stack_bidirectional_rnn/cell_2/bidirectional_rnn/fw/basic_lstm_cell/bias/Adam_1:0' shape=(1280,) dtype=float32_ref>\n",
      "stack_bidirectional_rnn/cell_2/bidirectional_rnn/bw/basic_lstm_cell/kernel/Adam\t<tf.Variable 'stack_bidirectional_rnn/cell_2/bidirectional_rnn/bw/basic_lstm_cell/kernel/Adam:0' shape=(960, 1280) dtype=float32_ref>\n",
      "stack_bidirectional_rnn/cell_2/bidirectional_rnn/bw/basic_lstm_cell/kernel/Adam_1\t<tf.Variable 'stack_bidirectional_rnn/cell_2/bidirectional_rnn/bw/basic_lstm_cell/kernel/Adam_1:0' shape=(960, 1280) dtype=float32_ref>\n",
      "stack_bidirectional_rnn/cell_2/bidirectional_rnn/bw/basic_lstm_cell/bias/Adam\t<tf.Variable 'stack_bidirectional_rnn/cell_2/bidirectional_rnn/bw/basic_lstm_cell/bias/Adam:0' shape=(1280,) dtype=float32_ref>\n",
      "stack_bidirectional_rnn/cell_2/bidirectional_rnn/bw/basic_lstm_cell/bias/Adam_1\t<tf.Variable 'stack_bidirectional_rnn/cell_2/bidirectional_rnn/bw/basic_lstm_cell/bias/Adam_1:0' shape=(1280,) dtype=float32_ref>\n",
      "decoder/memory_layer/kernel/Adam\t<tf.Variable 'decoder/memory_layer/kernel/Adam:0' shape=(640, 640) dtype=float32_ref>\n",
      "decoder/memory_layer/kernel/Adam_1\t<tf.Variable 'decoder/memory_layer/kernel/Adam_1:0' shape=(640, 640) dtype=float32_ref>\n",
      "decoder/attention_wrapper/basic_lstm_cell/kernel/Adam\t<tf.Variable 'decoder/attention_wrapper/basic_lstm_cell/kernel/Adam:0' shape=(1920, 2560) dtype=float32_ref>\n",
      "decoder/attention_wrapper/basic_lstm_cell/kernel/Adam_1\t<tf.Variable 'decoder/attention_wrapper/basic_lstm_cell/kernel/Adam_1:0' shape=(1920, 2560) dtype=float32_ref>\n",
      "decoder/attention_wrapper/basic_lstm_cell/bias/Adam\t<tf.Variable 'decoder/attention_wrapper/basic_lstm_cell/bias/Adam:0' shape=(2560,) dtype=float32_ref>\n",
      "decoder/attention_wrapper/basic_lstm_cell/bias/Adam_1\t<tf.Variable 'decoder/attention_wrapper/basic_lstm_cell/bias/Adam_1:0' shape=(2560,) dtype=float32_ref>\n",
      "decoder/attention_wrapper/custom_attention/query_layer/kernel/Adam\t<tf.Variable 'decoder/attention_wrapper/custom_attention/query_layer/kernel/Adam:0' shape=(640, 640) dtype=float32_ref>\n",
      "decoder/attention_wrapper/custom_attention/query_layer/kernel/Adam_1\t<tf.Variable 'decoder/attention_wrapper/custom_attention/query_layer/kernel/Adam_1:0' shape=(640, 640) dtype=float32_ref>\n",
      "decoder/attention_wrapper/custom_attention/location_conv/kernel/Adam\t<tf.Variable 'decoder/attention_wrapper/custom_attention/location_conv/kernel/Adam:0' shape=(10, 1, 201) dtype=float32_ref>\n",
      "decoder/attention_wrapper/custom_attention/location_conv/kernel/Adam_1\t<tf.Variable 'decoder/attention_wrapper/custom_attention/location_conv/kernel/Adam_1:0' shape=(10, 1, 201) dtype=float32_ref>\n",
      "decoder/attention_wrapper/custom_attention/location_layer/kernel/Adam\t<tf.Variable 'decoder/attention_wrapper/custom_attention/location_layer/kernel/Adam:0' shape=(201, 640) dtype=float32_ref>\n",
      "decoder/attention_wrapper/custom_attention/location_layer/kernel/Adam_1\t<tf.Variable 'decoder/attention_wrapper/custom_attention/location_layer/kernel/Adam_1:0' shape=(201, 640) dtype=float32_ref>\n",
      "decoder/attention_wrapper/custom_attention/attention_v/Adam\t<tf.Variable 'decoder/attention_wrapper/custom_attention/attention_v/Adam:0' shape=(640,) dtype=float32_ref>\n",
      "decoder/attention_wrapper/custom_attention/attention_v/Adam_1\t<tf.Variable 'decoder/attention_wrapper/custom_attention/attention_v/Adam_1:0' shape=(640,) dtype=float32_ref>\n",
      "decoder/attention_wrapper/attention_layer/kernel/Adam\t<tf.Variable 'decoder/attention_wrapper/attention_layer/kernel/Adam:0' shape=(1280, 640) dtype=float32_ref>\n",
      "decoder/attention_wrapper/attention_layer/kernel/Adam_1\t<tf.Variable 'decoder/attention_wrapper/attention_layer/kernel/Adam_1:0' shape=(1280, 640) dtype=float32_ref>\n",
      "decoder/output_projection/kernel/Adam\t<tf.Variable 'decoder/output_projection/kernel/Adam:0' shape=(640, 34331) dtype=float32_ref>\n",
      "decoder/output_projection/kernel/Adam_1\t<tf.Variable 'decoder/output_projection/kernel/Adam_1:0' shape=(640, 34331) dtype=float32_ref>\n",
      "new_kernel\t<tf.Variable 'new_kernel:0' shape=(1955, 2560) dtype=float32_ref>\n",
      "new_kernel_adam\t<tf.Variable 'new_kernel_adam:0' shape=(1955, 2560) dtype=float32_ref>\n",
      "new_kernel_adam_1\t<tf.Variable 'new_kernel_adam_1:0' shape=(1955, 2560) dtype=float32_ref>\n",
      "decoder/decoder_emb_layer/kernel\t<tf.Variable 'decoder/dense/kernel:0' shape=(34331, 640) dtype=float32_ref>\n",
      "decoder/decoder_emb_layer/bias\t<tf.Variable 'decoder/dense/bias:0' shape=(640,) dtype=float32_ref>\n",
      "decoder/decoder_emb_layer/bias/Adam\t<tf.Variable 'decoder/dense/bias/Adam:0' shape=(640,) dtype=float32_ref>\n",
      "decoder/decoder_emb_layer/bias/Adam_1\t<tf.Variable 'decoder/dense/bias/Adam_1:0' shape=(640,) dtype=float32_ref>\n",
      "decoder/decoder_emb_layer/kernel/Adam\t<tf.Variable 'decoder/dense/kernel/Adam:0' shape=(34331, 640) dtype=float32_ref>\n",
      "decoder/decoder_emb_layer/kernel/Adam_1\t<tf.Variable 'decoder/dense/kernel/Adam_1:0' shape=(34331, 640) dtype=float32_ref>\n"
     ]
    }
   ],
   "source": [
    "saver = tf.train.import_meta_graph('../../../saved_models/attention_aps_word_context/csp.ckpt.meta')\n",
    "\n",
    "var_map = {\n",
    "    \"decoder/decoder_emb_layer/kernel\": \"decoder/dense/kernel\",\n",
    "    \"decoder/decoder_emb_layer/bias\": \"decoder/dense/bias\",\n",
    "    \"decoder/decoder_emb_layer/bias/Adam\": \"decoder/dense/bias/Adam\",\n",
    "    \"decoder/decoder_emb_layer/bias/Adam_1\": \"decoder/dense/bias/Adam_1\",\n",
    "    \"decoder/decoder_emb_layer/kernel/Adam\": \"decoder/dense/kernel/Adam\",\n",
    "    \"decoder/decoder_emb_layer/kernel/Adam_1\": \"decoder/dense/kernel/Adam_1\",\n",
    "}\n",
    "\n",
    "saver_variables = tf.global_variables()\n",
    "var_list = {var.op.name: var for var in saver_variables}\n",
    "\n",
    "for it in var_map:\n",
    "    var_list[it] = var_list[var_map[it]]\n",
    "    del var_list[var_map[it]]\n",
    "            \n",
    "saver = tf.train.Saver(var_list=var_list)\n",
    "for var in var_list:\n",
    "    print(\"%s\\t%s\" % (var, str(var_list[var])))"
   ]
  },
  {
   "cell_type": "code",
   "execution_count": 3,
   "metadata": {},
   "outputs": [],
   "source": [
    "graph = tf.get_default_graph()\n",
    "decoder_kernel = graph.get_tensor_by_name('decoder/attention_wrapper/basic_lstm_cell/kernel:0')\n",
    "decoder_kernel_var = tf.get_variable(\"new_kernel\", shape=[1955, 2560])"
   ]
  },
  {
   "cell_type": "code",
   "execution_count": 4,
   "metadata": {},
   "outputs": [
    {
     "name": "stdout",
     "output_type": "stream",
     "text": [
      "<tf.Variable 'new_kernel:0' shape=(1955, 2560) dtype=float32_ref>\n"
     ]
    }
   ],
   "source": [
    "tf.assign(decoder_kernel_var, tf.pad(decoder_kernel, [[0, 35], [0, 0]]))\n",
    "print(decoder_kernel_var)\n",
    "var_list['decoder/attention_wrapper/basic_lstm_cell/kernel'] = decoder_kernel_var"
   ]
  },
  {
   "cell_type": "code",
   "execution_count": 5,
   "metadata": {},
   "outputs": [
    {
     "name": "stdout",
     "output_type": "stream",
     "text": [
      "<tf.Variable 'new_kernel_adam:0' shape=(1955, 2560) dtype=float32_ref>\n"
     ]
    }
   ],
   "source": [
    "decoder_kernel_adam = graph.get_tensor_by_name('decoder/attention_wrapper/basic_lstm_cell/kernel/Adam:0')\n",
    "decoder_kernel_var_adam = tf.get_variable(\"new_kernel_adam\", shape=[1955, 2560])\n",
    "tf.assign(decoder_kernel_var_adam, tf.pad(decoder_kernel_adam, [[0, 35], [0, 0]]))\n",
    "print(decoder_kernel_var_adam)\n",
    "var_list['decoder/attention_wrapper/basic_lstm_cell/kernel/Adam'] = decoder_kernel_var_adam"
   ]
  },
  {
   "cell_type": "code",
   "execution_count": 6,
   "metadata": {},
   "outputs": [
    {
     "name": "stdout",
     "output_type": "stream",
     "text": [
      "<tf.Variable 'new_kernel_adam_1:0' shape=(1955, 2560) dtype=float32_ref>\n"
     ]
    }
   ],
   "source": [
    "decoder_kernel_adam_1 = graph.get_tensor_by_name('decoder/attention_wrapper/basic_lstm_cell/kernel/Adam_1:0')\n",
    "decoder_kernel_var_adam_1 = tf.get_variable(\"new_kernel_adam_1\", shape=[1955, 2560])\n",
    "tf.assign(decoder_kernel_var_adam_1, tf.pad(decoder_kernel_adam_1, [[0, 35], [0, 0]]))\n",
    "print(decoder_kernel_var_adam_1)\n",
    "var_list['decoder/attention_wrapper/basic_lstm_cell/kernel/Adam_1'] = decoder_kernel_var_adam_1"
   ]
  },
  {
   "cell_type": "code",
   "execution_count": 7,
   "metadata": {},
   "outputs": [
    {
     "name": "stdout",
     "output_type": "stream",
     "text": [
      "Variable\t()\n",
      "stack_bidirectional_rnn/cell_0/bidirectional_rnn/fw/basic_lstm_cell/kernel\t(440, 1280)\n",
      "stack_bidirectional_rnn/cell_0/bidirectional_rnn/fw/basic_lstm_cell/bias\t(1280,)\n",
      "stack_bidirectional_rnn/cell_0/bidirectional_rnn/bw/basic_lstm_cell/kernel\t(440, 1280)\n",
      "stack_bidirectional_rnn/cell_0/bidirectional_rnn/bw/basic_lstm_cell/bias\t(1280,)\n",
      "stack_bidirectional_rnn/cell_1/bidirectional_rnn/fw/basic_lstm_cell/kernel\t(960, 1280)\n",
      "stack_bidirectional_rnn/cell_1/bidirectional_rnn/fw/basic_lstm_cell/bias\t(1280,)\n",
      "stack_bidirectional_rnn/cell_1/bidirectional_rnn/bw/basic_lstm_cell/kernel\t(960, 1280)\n",
      "stack_bidirectional_rnn/cell_1/bidirectional_rnn/bw/basic_lstm_cell/bias\t(1280,)\n",
      "stack_bidirectional_rnn/cell_2/bidirectional_rnn/fw/basic_lstm_cell/kernel\t(960, 1280)\n",
      "stack_bidirectional_rnn/cell_2/bidirectional_rnn/fw/basic_lstm_cell/bias\t(1280,)\n",
      "stack_bidirectional_rnn/cell_2/bidirectional_rnn/bw/basic_lstm_cell/kernel\t(960, 1280)\n",
      "stack_bidirectional_rnn/cell_2/bidirectional_rnn/bw/basic_lstm_cell/bias\t(1280,)\n",
      "decoder/memory_layer/kernel\t(640, 640)\n",
      "decoder/attention_wrapper/basic_lstm_cell/kernel\t(1955, 2560)\n",
      "decoder/attention_wrapper/basic_lstm_cell/bias\t(2560,)\n",
      "decoder/attention_wrapper/custom_attention/query_layer/kernel\t(640, 640)\n",
      "decoder/attention_wrapper/custom_attention/location_conv/kernel\t(10, 1, 201)\n",
      "decoder/attention_wrapper/custom_attention/location_layer/kernel\t(201, 640)\n",
      "decoder/attention_wrapper/custom_attention/attention_v\t(640,)\n",
      "decoder/attention_wrapper/attention_layer/kernel\t(1280, 640)\n",
      "decoder/output_projection/kernel\t(640, 34331)\n",
      "beta1_power\t()\n",
      "beta2_power\t()\n",
      "stack_bidirectional_rnn/cell_0/bidirectional_rnn/fw/basic_lstm_cell/kernel/Adam\t(440, 1280)\n",
      "stack_bidirectional_rnn/cell_0/bidirectional_rnn/fw/basic_lstm_cell/kernel/Adam_1\t(440, 1280)\n",
      "stack_bidirectional_rnn/cell_0/bidirectional_rnn/fw/basic_lstm_cell/bias/Adam\t(1280,)\n",
      "stack_bidirectional_rnn/cell_0/bidirectional_rnn/fw/basic_lstm_cell/bias/Adam_1\t(1280,)\n",
      "stack_bidirectional_rnn/cell_0/bidirectional_rnn/bw/basic_lstm_cell/kernel/Adam\t(440, 1280)\n",
      "stack_bidirectional_rnn/cell_0/bidirectional_rnn/bw/basic_lstm_cell/kernel/Adam_1\t(440, 1280)\n",
      "stack_bidirectional_rnn/cell_0/bidirectional_rnn/bw/basic_lstm_cell/bias/Adam\t(1280,)\n",
      "stack_bidirectional_rnn/cell_0/bidirectional_rnn/bw/basic_lstm_cell/bias/Adam_1\t(1280,)\n",
      "stack_bidirectional_rnn/cell_1/bidirectional_rnn/fw/basic_lstm_cell/kernel/Adam\t(960, 1280)\n",
      "stack_bidirectional_rnn/cell_1/bidirectional_rnn/fw/basic_lstm_cell/kernel/Adam_1\t(960, 1280)\n",
      "stack_bidirectional_rnn/cell_1/bidirectional_rnn/fw/basic_lstm_cell/bias/Adam\t(1280,)\n",
      "stack_bidirectional_rnn/cell_1/bidirectional_rnn/fw/basic_lstm_cell/bias/Adam_1\t(1280,)\n",
      "stack_bidirectional_rnn/cell_1/bidirectional_rnn/bw/basic_lstm_cell/kernel/Adam\t(960, 1280)\n",
      "stack_bidirectional_rnn/cell_1/bidirectional_rnn/bw/basic_lstm_cell/kernel/Adam_1\t(960, 1280)\n",
      "stack_bidirectional_rnn/cell_1/bidirectional_rnn/bw/basic_lstm_cell/bias/Adam\t(1280,)\n",
      "stack_bidirectional_rnn/cell_1/bidirectional_rnn/bw/basic_lstm_cell/bias/Adam_1\t(1280,)\n",
      "stack_bidirectional_rnn/cell_2/bidirectional_rnn/fw/basic_lstm_cell/kernel/Adam\t(960, 1280)\n",
      "stack_bidirectional_rnn/cell_2/bidirectional_rnn/fw/basic_lstm_cell/kernel/Adam_1\t(960, 1280)\n",
      "stack_bidirectional_rnn/cell_2/bidirectional_rnn/fw/basic_lstm_cell/bias/Adam\t(1280,)\n",
      "stack_bidirectional_rnn/cell_2/bidirectional_rnn/fw/basic_lstm_cell/bias/Adam_1\t(1280,)\n",
      "stack_bidirectional_rnn/cell_2/bidirectional_rnn/bw/basic_lstm_cell/kernel/Adam\t(960, 1280)\n",
      "stack_bidirectional_rnn/cell_2/bidirectional_rnn/bw/basic_lstm_cell/kernel/Adam_1\t(960, 1280)\n",
      "stack_bidirectional_rnn/cell_2/bidirectional_rnn/bw/basic_lstm_cell/bias/Adam\t(1280,)\n",
      "stack_bidirectional_rnn/cell_2/bidirectional_rnn/bw/basic_lstm_cell/bias/Adam_1\t(1280,)\n",
      "decoder/memory_layer/kernel/Adam\t(640, 640)\n",
      "decoder/memory_layer/kernel/Adam_1\t(640, 640)\n",
      "decoder/attention_wrapper/basic_lstm_cell/kernel/Adam\t(1955, 2560)\n",
      "decoder/attention_wrapper/basic_lstm_cell/kernel/Adam_1\t(1955, 2560)\n",
      "decoder/attention_wrapper/basic_lstm_cell/bias/Adam\t(2560,)\n",
      "decoder/attention_wrapper/basic_lstm_cell/bias/Adam_1\t(2560,)\n",
      "decoder/attention_wrapper/custom_attention/query_layer/kernel/Adam\t(640, 640)\n",
      "decoder/attention_wrapper/custom_attention/query_layer/kernel/Adam_1\t(640, 640)\n",
      "decoder/attention_wrapper/custom_attention/location_conv/kernel/Adam\t(10, 1, 201)\n",
      "decoder/attention_wrapper/custom_attention/location_conv/kernel/Adam_1\t(10, 1, 201)\n",
      "decoder/attention_wrapper/custom_attention/location_layer/kernel/Adam\t(201, 640)\n",
      "decoder/attention_wrapper/custom_attention/location_layer/kernel/Adam_1\t(201, 640)\n",
      "decoder/attention_wrapper/custom_attention/attention_v/Adam\t(640,)\n",
      "decoder/attention_wrapper/custom_attention/attention_v/Adam_1\t(640,)\n",
      "decoder/attention_wrapper/attention_layer/kernel/Adam\t(1280, 640)\n",
      "decoder/attention_wrapper/attention_layer/kernel/Adam_1\t(1280, 640)\n",
      "decoder/output_projection/kernel/Adam\t(640, 34331)\n",
      "decoder/output_projection/kernel/Adam_1\t(640, 34331)\n",
      "decoder/decoder_emb_layer/kernel\t(34331, 640)\n",
      "decoder/decoder_emb_layer/bias\t(640,)\n",
      "decoder/decoder_emb_layer/bias/Adam\t(640,)\n",
      "decoder/decoder_emb_layer/bias/Adam_1\t(640,)\n",
      "decoder/decoder_emb_layer/kernel/Adam\t(34331, 640)\n",
      "decoder/decoder_emb_layer/kernel/Adam_1\t(34331, 640)\n"
     ]
    }
   ],
   "source": [
    "for var in var_list:\n",
    "    print(\"%s\\t%s\" % (var, str(var_list[var].get_shape())))"
   ]
  },
  {
   "cell_type": "code",
   "execution_count": 10,
   "metadata": {},
   "outputs": [],
   "source": [
    "init_op = tf.global_variables_initializer()\n",
    "saver = tf.train.Saver(var_list=var_list)\n",
    "with tf.Session() as sess:\n",
    "    sess.run(init_op)\n",
    "    saver.save(sess, '../../../saved_models/attention_aps_word_context/csp.epoch9-new.ckpt')"
   ]
  },
  {
   "cell_type": "code",
   "execution_count": 9,
   "metadata": {},
   "outputs": [
    {
     "name": "stdout",
     "output_type": "stream",
     "text": [
      "Variable (DT_INT32) []\n",
      "beta1_power (DT_FLOAT) []\n",
      "beta2_power (DT_FLOAT) []\n",
      "decoder/attention_wrapper/attention_layer/kernel (DT_FLOAT) [1280,640]\n",
      "decoder/attention_wrapper/attention_layer/kernel/Adam (DT_FLOAT) [1280,640]\n",
      "decoder/attention_wrapper/attention_layer/kernel/Adam_1 (DT_FLOAT) [1280,640]\n",
      "decoder/attention_wrapper/basic_lstm_cell/bias (DT_FLOAT) [2560]\n",
      "decoder/attention_wrapper/basic_lstm_cell/bias/Adam (DT_FLOAT) [2560]\n",
      "decoder/attention_wrapper/basic_lstm_cell/bias/Adam_1 (DT_FLOAT) [2560]\n",
      "decoder/attention_wrapper/basic_lstm_cell/kernel (DT_FLOAT) [1955,2560]\n",
      "decoder/attention_wrapper/basic_lstm_cell/kernel/Adam (DT_FLOAT) [1955,2560]\n",
      "decoder/attention_wrapper/basic_lstm_cell/kernel/Adam_1 (DT_FLOAT) [1955,2560]\n",
      "decoder/attention_wrapper/custom_attention/attention_v (DT_FLOAT) [640]\n",
      "decoder/attention_wrapper/custom_attention/attention_v/Adam (DT_FLOAT) [640]\n",
      "decoder/attention_wrapper/custom_attention/attention_v/Adam_1 (DT_FLOAT) [640]\n",
      "decoder/attention_wrapper/custom_attention/location_conv/kernel (DT_FLOAT) [10,1,201]\n",
      "decoder/attention_wrapper/custom_attention/location_conv/kernel/Adam (DT_FLOAT) [10,1,201]\n",
      "decoder/attention_wrapper/custom_attention/location_conv/kernel/Adam_1 (DT_FLOAT) [10,1,201]\n",
      "decoder/attention_wrapper/custom_attention/location_layer/kernel (DT_FLOAT) [201,640]\n",
      "decoder/attention_wrapper/custom_attention/location_layer/kernel/Adam (DT_FLOAT) [201,640]\n",
      "decoder/attention_wrapper/custom_attention/location_layer/kernel/Adam_1 (DT_FLOAT) [201,640]\n",
      "decoder/attention_wrapper/custom_attention/query_layer/kernel (DT_FLOAT) [640,640]\n",
      "decoder/attention_wrapper/custom_attention/query_layer/kernel/Adam (DT_FLOAT) [640,640]\n",
      "decoder/attention_wrapper/custom_attention/query_layer/kernel/Adam_1 (DT_FLOAT) [640,640]\n",
      "decoder/decoder_emb_layer/bias (DT_FLOAT) [640]\n",
      "decoder/decoder_emb_layer/bias/Adam (DT_FLOAT) [640]\n",
      "decoder/decoder_emb_layer/bias/Adam_1 (DT_FLOAT) [640]\n",
      "decoder/decoder_emb_layer/kernel (DT_FLOAT) [34331,640]\n",
      "decoder/decoder_emb_layer/kernel/Adam (DT_FLOAT) [34331,640]\n",
      "decoder/decoder_emb_layer/kernel/Adam_1 (DT_FLOAT) [34331,640]\n",
      "decoder/memory_layer/kernel (DT_FLOAT) [640,640]\n",
      "decoder/memory_layer/kernel/Adam (DT_FLOAT) [640,640]\n",
      "decoder/memory_layer/kernel/Adam_1 (DT_FLOAT) [640,640]\n",
      "decoder/output_projection/kernel (DT_FLOAT) [640,34331]\n",
      "decoder/output_projection/kernel/Adam (DT_FLOAT) [640,34331]\n",
      "decoder/output_projection/kernel/Adam_1 (DT_FLOAT) [640,34331]\n",
      "stack_bidirectional_rnn/cell_0/bidirectional_rnn/bw/basic_lstm_cell/bias (DT_FLOAT) [1280]\n",
      "stack_bidirectional_rnn/cell_0/bidirectional_rnn/bw/basic_lstm_cell/bias/Adam (DT_FLOAT) [1280]\n",
      "stack_bidirectional_rnn/cell_0/bidirectional_rnn/bw/basic_lstm_cell/bias/Adam_1 (DT_FLOAT) [1280]\n",
      "stack_bidirectional_rnn/cell_0/bidirectional_rnn/bw/basic_lstm_cell/kernel (DT_FLOAT) [440,1280]\n",
      "stack_bidirectional_rnn/cell_0/bidirectional_rnn/bw/basic_lstm_cell/kernel/Adam (DT_FLOAT) [440,1280]\n",
      "stack_bidirectional_rnn/cell_0/bidirectional_rnn/bw/basic_lstm_cell/kernel/Adam_1 (DT_FLOAT) [440,1280]\n",
      "stack_bidirectional_rnn/cell_0/bidirectional_rnn/fw/basic_lstm_cell/bias (DT_FLOAT) [1280]\n",
      "stack_bidirectional_rnn/cell_0/bidirectional_rnn/fw/basic_lstm_cell/bias/Adam (DT_FLOAT) [1280]\n",
      "stack_bidirectional_rnn/cell_0/bidirectional_rnn/fw/basic_lstm_cell/bias/Adam_1 (DT_FLOAT) [1280]\n",
      "stack_bidirectional_rnn/cell_0/bidirectional_rnn/fw/basic_lstm_cell/kernel (DT_FLOAT) [440,1280]\n",
      "stack_bidirectional_rnn/cell_0/bidirectional_rnn/fw/basic_lstm_cell/kernel/Adam (DT_FLOAT) [440,1280]\n",
      "stack_bidirectional_rnn/cell_0/bidirectional_rnn/fw/basic_lstm_cell/kernel/Adam_1 (DT_FLOAT) [440,1280]\n",
      "stack_bidirectional_rnn/cell_1/bidirectional_rnn/bw/basic_lstm_cell/bias (DT_FLOAT) [1280]\n",
      "stack_bidirectional_rnn/cell_1/bidirectional_rnn/bw/basic_lstm_cell/bias/Adam (DT_FLOAT) [1280]\n",
      "stack_bidirectional_rnn/cell_1/bidirectional_rnn/bw/basic_lstm_cell/bias/Adam_1 (DT_FLOAT) [1280]\n",
      "stack_bidirectional_rnn/cell_1/bidirectional_rnn/bw/basic_lstm_cell/kernel (DT_FLOAT) [960,1280]\n",
      "stack_bidirectional_rnn/cell_1/bidirectional_rnn/bw/basic_lstm_cell/kernel/Adam (DT_FLOAT) [960,1280]\n",
      "stack_bidirectional_rnn/cell_1/bidirectional_rnn/bw/basic_lstm_cell/kernel/Adam_1 (DT_FLOAT) [960,1280]\n",
      "stack_bidirectional_rnn/cell_1/bidirectional_rnn/fw/basic_lstm_cell/bias (DT_FLOAT) [1280]\n",
      "stack_bidirectional_rnn/cell_1/bidirectional_rnn/fw/basic_lstm_cell/bias/Adam (DT_FLOAT) [1280]\n",
      "stack_bidirectional_rnn/cell_1/bidirectional_rnn/fw/basic_lstm_cell/bias/Adam_1 (DT_FLOAT) [1280]\n",
      "stack_bidirectional_rnn/cell_1/bidirectional_rnn/fw/basic_lstm_cell/kernel (DT_FLOAT) [960,1280]\n",
      "stack_bidirectional_rnn/cell_1/bidirectional_rnn/fw/basic_lstm_cell/kernel/Adam (DT_FLOAT) [960,1280]\n",
      "stack_bidirectional_rnn/cell_1/bidirectional_rnn/fw/basic_lstm_cell/kernel/Adam_1 (DT_FLOAT) [960,1280]\n",
      "stack_bidirectional_rnn/cell_2/bidirectional_rnn/bw/basic_lstm_cell/bias (DT_FLOAT) [1280]\n",
      "stack_bidirectional_rnn/cell_2/bidirectional_rnn/bw/basic_lstm_cell/bias/Adam (DT_FLOAT) [1280]\n",
      "stack_bidirectional_rnn/cell_2/bidirectional_rnn/bw/basic_lstm_cell/bias/Adam_1 (DT_FLOAT) [1280]\n",
      "stack_bidirectional_rnn/cell_2/bidirectional_rnn/bw/basic_lstm_cell/kernel (DT_FLOAT) [960,1280]\n",
      "stack_bidirectional_rnn/cell_2/bidirectional_rnn/bw/basic_lstm_cell/kernel/Adam (DT_FLOAT) [960,1280]\n",
      "stack_bidirectional_rnn/cell_2/bidirectional_rnn/bw/basic_lstm_cell/kernel/Adam_1 (DT_FLOAT) [960,1280]\n",
      "stack_bidirectional_rnn/cell_2/bidirectional_rnn/fw/basic_lstm_cell/bias (DT_FLOAT) [1280]\n",
      "stack_bidirectional_rnn/cell_2/bidirectional_rnn/fw/basic_lstm_cell/bias/Adam (DT_FLOAT) [1280]\n",
      "stack_bidirectional_rnn/cell_2/bidirectional_rnn/fw/basic_lstm_cell/bias/Adam_1 (DT_FLOAT) [1280]\n",
      "stack_bidirectional_rnn/cell_2/bidirectional_rnn/fw/basic_lstm_cell/kernel (DT_FLOAT) [960,1280]\n",
      "stack_bidirectional_rnn/cell_2/bidirectional_rnn/fw/basic_lstm_cell/kernel/Adam (DT_FLOAT) [960,1280]\n",
      "stack_bidirectional_rnn/cell_2/bidirectional_rnn/fw/basic_lstm_cell/kernel/Adam_1 (DT_FLOAT) [960,1280]\n",
      "\n"
     ]
    }
   ],
   "source": [
    "from tensorflow.python.tools.inspect_checkpoint import print_tensors_in_checkpoint_file\n",
    "print_tensors_in_checkpoint_file(file_name=\"../../../saved_models/attention_aps_word_context/csp.epoch9-new.ckpt\", tensor_name='', all_tensors=False, all_tensor_names=False)"
   ]
  },
  {
   "cell_type": "code",
   "execution_count": null,
   "metadata": {},
   "outputs": [],
   "source": []
  },
  {
   "cell_type": "code",
   "execution_count": null,
   "metadata": {},
   "outputs": [],
   "source": []
  },
  {
   "cell_type": "code",
   "execution_count": null,
   "metadata": {},
   "outputs": [],
   "source": []
  }
 ],
 "metadata": {
  "kernelspec": {
   "display_name": "Python 3",
   "language": "python",
   "name": "python3"
  },
  "language_info": {
   "codemirror_mode": {
    "name": "ipython",
    "version": 3
   },
   "file_extension": ".py",
   "mimetype": "text/x-python",
   "name": "python",
   "nbconvert_exporter": "python",
   "pygments_lexer": "ipython3",
   "version": "3.6.4"
  }
 },
 "nbformat": 4,
 "nbformat_minor": 2
}
