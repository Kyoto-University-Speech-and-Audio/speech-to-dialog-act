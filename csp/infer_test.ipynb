{
 "cells": [
  {
   "cell_type": "code",
   "execution_count": 3,
   "metadata": {},
   "outputs": [
    {
     "name": "stdout",
     "output_type": "stream",
     "text": [
      "INFO:tensorflow:test\n"
     ]
    }
   ],
   "source": [
    "import argparse\n",
    "import os\n",
    "import tensorflow as tf\n",
    "import sys\n",
    "from utils import utils\n",
    "\n",
    "sys.path.insert(0, os.path.abspath('.'))\n",
    "tf.logging.set_verbosity(tf.logging.INFO)\n",
    "tf.logging.info('test')"
   ]
  },
  {
   "cell_type": "code",
   "execution_count": 6,
   "metadata": {},
   "outputs": [
    {
     "ename": "AttributeError",
     "evalue": "'dict' object has no attribute 'model'",
     "output_type": "error",
     "traceback": [
      "\u001b[0;31m---------------------------------------------------------------------------\u001b[0m",
      "\u001b[0;31mAttributeError\u001b[0m                            Traceback (most recent call last)",
      "\u001b[0;32m<ipython-input-6-2cdf4dab5f07>\u001b[0m in \u001b[0;36m<module>\u001b[0;34m()\u001b[0m\n\u001b[1;32m     84\u001b[0m     \u001b[0mparser\u001b[0m \u001b[0;34m=\u001b[0m \u001b[0margparse\u001b[0m\u001b[0;34m.\u001b[0m\u001b[0mArgumentParser\u001b[0m\u001b[0;34m(\u001b[0m\u001b[0;34m)\u001b[0m\u001b[0;34m\u001b[0m\u001b[0m\n\u001b[1;32m     85\u001b[0m     \u001b[0mFLAGS\u001b[0m\u001b[0;34m,\u001b[0m \u001b[0munparsed\u001b[0m \u001b[0;34m=\u001b[0m \u001b[0mparser\u001b[0m\u001b[0;34m.\u001b[0m\u001b[0mparse_known_args\u001b[0m\u001b[0;34m(\u001b[0m\u001b[0;34m)\u001b[0m\u001b[0;34m\u001b[0m\u001b[0m\n\u001b[0;32m---> 86\u001b[0;31m     \u001b[0mtf\u001b[0m\u001b[0;34m.\u001b[0m\u001b[0mapp\u001b[0m\u001b[0;34m.\u001b[0m\u001b[0mrun\u001b[0m\u001b[0;34m(\u001b[0m\u001b[0mmain\u001b[0m\u001b[0;34m=\u001b[0m\u001b[0mmain\u001b[0m\u001b[0;34m,\u001b[0m \u001b[0margv\u001b[0m\u001b[0;34m=\u001b[0m\u001b[0;34m[\u001b[0m\u001b[0msys\u001b[0m\u001b[0;34m.\u001b[0m\u001b[0margv\u001b[0m\u001b[0;34m[\u001b[0m\u001b[0;36m0\u001b[0m\u001b[0;34m]\u001b[0m\u001b[0;34m]\u001b[0m \u001b[0;34m+\u001b[0m \u001b[0munparsed\u001b[0m\u001b[0;34m)\u001b[0m\u001b[0;34m\u001b[0m\u001b[0m\n\u001b[0m",
      "\u001b[0;32m~/anaconda3/lib/python3.6/site-packages/tensorflow/python/platform/app.py\u001b[0m in \u001b[0;36mrun\u001b[0;34m(main, argv)\u001b[0m\n\u001b[1;32m    124\u001b[0m   \u001b[0;31m# Call the main function, passing through any arguments\u001b[0m\u001b[0;34m\u001b[0m\u001b[0;34m\u001b[0m\u001b[0m\n\u001b[1;32m    125\u001b[0m   \u001b[0;31m# to the final program.\u001b[0m\u001b[0;34m\u001b[0m\u001b[0;34m\u001b[0m\u001b[0m\n\u001b[0;32m--> 126\u001b[0;31m   \u001b[0m_sys\u001b[0m\u001b[0;34m.\u001b[0m\u001b[0mexit\u001b[0m\u001b[0;34m(\u001b[0m\u001b[0mmain\u001b[0m\u001b[0;34m(\u001b[0m\u001b[0margv\u001b[0m\u001b[0;34m)\u001b[0m\u001b[0;34m)\u001b[0m\u001b[0;34m\u001b[0m\u001b[0m\n\u001b[0m\u001b[1;32m    127\u001b[0m \u001b[0;34m\u001b[0m\u001b[0m\n\u001b[1;32m    128\u001b[0m \u001b[0;34m\u001b[0m\u001b[0m\n",
      "\u001b[0;32m<ipython-input-6-2cdf4dab5f07>\u001b[0m in \u001b[0;36mmain\u001b[0;34m(unused_argv)\u001b[0m\n\u001b[1;32m     65\u001b[0m \u001b[0;32mdef\u001b[0m \u001b[0mmain\u001b[0m\u001b[0;34m(\u001b[0m\u001b[0munused_argv\u001b[0m\u001b[0;34m)\u001b[0m\u001b[0;34m:\u001b[0m\u001b[0;34m\u001b[0m\u001b[0m\n\u001b[1;32m     66\u001b[0m     hparams = utils.create_hparams({\n\u001b[0;32m---> 67\u001b[0;31m         \u001b[0;34m'model'\u001b[0m\u001b[0;34m:\u001b[0m \u001b[0;34m'attention'\u001b[0m\u001b[0;34m\u001b[0m\u001b[0m\n\u001b[0m\u001b[1;32m     68\u001b[0m     })\n\u001b[1;32m     69\u001b[0m     \u001b[0mhparams\u001b[0m\u001b[0;34m.\u001b[0m\u001b[0mbatch_size\u001b[0m \u001b[0;34m=\u001b[0m \u001b[0;36m1\u001b[0m\u001b[0;34m\u001b[0m\u001b[0m\n",
      "\u001b[0;32m/n/sd7/trung/csp/csp/utils/utils.py\u001b[0m in \u001b[0;36mcreate_hparams\u001b[0;34m(flags)\u001b[0m\n\u001b[1;32m     75\u001b[0m \u001b[0;32mdef\u001b[0m \u001b[0mcreate_hparams\u001b[0m\u001b[0;34m(\u001b[0m\u001b[0mflags\u001b[0m\u001b[0;34m)\u001b[0m\u001b[0;34m:\u001b[0m\u001b[0;34m\u001b[0m\u001b[0m\n\u001b[1;32m     76\u001b[0m     hparams = tf.contrib.training.HParams(\n\u001b[0;32m---> 77\u001b[0;31m         \u001b[0mmodel\u001b[0m\u001b[0;34m=\u001b[0m\u001b[0mflags\u001b[0m\u001b[0;34m.\u001b[0m\u001b[0mmodel\u001b[0m\u001b[0;34m,\u001b[0m\u001b[0;34m\u001b[0m\u001b[0m\n\u001b[0m\u001b[1;32m     78\u001b[0m         \u001b[0mdataset\u001b[0m\u001b[0;34m=\u001b[0m\u001b[0mflags\u001b[0m\u001b[0;34m.\u001b[0m\u001b[0mdataset\u001b[0m\u001b[0;34m,\u001b[0m\u001b[0;34m\u001b[0m\u001b[0m\n\u001b[1;32m     79\u001b[0m                                 \u001b[0mname\u001b[0m\u001b[0;34m=\u001b[0m\u001b[0mflags\u001b[0m\u001b[0;34m.\u001b[0m\u001b[0mname\u001b[0m\u001b[0;34m,\u001b[0m\u001b[0;34m\u001b[0m\u001b[0m\n",
      "\u001b[0;31mAttributeError\u001b[0m: 'dict' object has no attribute 'model'"
     ]
    }
   ],
   "source": [
    "class ModelWrapper:\n",
    "    def __init__(self, hparams, mode, BatchedInput, Model):\n",
    "        self.graph = tf.Graph()\n",
    "        self.hparams = hparams\n",
    "        with self.graph.as_default():\n",
    "            self.batched_input = BatchedInput(hparams, mode)\n",
    "            self.batched_input.init_dataset()\n",
    "            self.iterator = self.batched_input.iterator\n",
    "            self.model = Model(\n",
    "                hparams,\n",
    "                mode=mode,\n",
    "                iterator=self.iterator\n",
    "            )\n",
    "\n",
    "    def load_model(self, sess, name):\n",
    "        latest_ckpt = tf.train.latest_checkpoint(self.hparams.out_dir)\n",
    "        if latest_ckpt:\n",
    "            self.model.saver.restore(sess, latest_ckpt)\n",
    "            sess.run(tf.tables_initializer())\n",
    "            global_step = self.model.global_step.eval(session=sess)\n",
    "            return global_step\n",
    "\n",
    "def load(Model, BatchedInput, hparams):\n",
    "    infer_model = ModelWrapper(\n",
    "        hparams,\n",
    "        tf.estimator.ModeKeys.PREDICT,\n",
    "        BatchedInput, Model\n",
    "    )\n",
    "\n",
    "    infer_sess = tf.Session(graph=infer_model.graph)\n",
    "\n",
    "    with infer_model.graph.as_default():\n",
    "        global_step = infer_model.load_model(\n",
    "            infer_sess, \"infer\"\n",
    "        )\n",
    "\n",
    "        infer_model.batched_input.reset_iterator(infer_sess)\n",
    "\n",
    "    return infer_sess, infer_model, global_step\n",
    "\n",
    "\n",
    "def infer(hparams):\n",
    "    BatchedInput = utils.get_batched_input_class(hparams)\n",
    "    Model = utils.get_model_class(hparams)\n",
    "    infer_sess, infer_model, global_step = load(Model, BatchedInput, hparams)\n",
    "\n",
    "    with infer_model.graph.as_default():\n",
    "        while True:\n",
    "            try:\n",
    "                sample_ids = infer_model.model.infer(infer_sess)\n",
    "                writer = tf.summary.FileWriter(\n",
    "                    os.path.join(hparams.summaries_dir, \"%s_%s\" % (hparams.model, hparams.dataset), \"log_infer\"),\n",
    "                    infer_sess.graph)\n",
    "                writer.add_summary(infer_model.model.summary, global_step)\n",
    "\n",
    "                for i in range(len(sample_ids)):\n",
    "                    # str_original = BatchedInput.decode(target_labels[i])\n",
    "                    str_decoded = infer_model.batched_input.decode(sample_ids[i])\n",
    "\n",
    "                    # print('Original: %s' % str_original)\n",
    "                    print('Decoded:  %s' % \"\".join(str_decoded))\n",
    "            except tf.errors.OutOfRangeError:\n",
    "                break\n",
    "\n",
    "def main(unused_argv):\n",
    "    hparams = utils.create_hparams()\n",
    "    hparams.batch_size = 1\n",
    "\n",
    "    print(FLAGS.server)\n",
    "    if FLAGS.server:\n",
    "        from flask import Flask\n",
    "        app = Flask(__name__)\n",
    "\n",
    "        @app.route(\"/\")\n",
    "        def hello():\n",
    "            return \"Hello\"\n",
    "    else:\n",
    "        infer(hparams)\n",
    "\n",
    "\n",
    "if __name__ == \"__main__\":\n",
    "    parser = argparse.ArgumentParser()\n",
    "    FLAGS, unparsed = parser.parse_known_args()\n",
    "    tf.app.run(main=main, argv=[sys.argv[0]] + unparsed)"
   ]
  },
  {
   "cell_type": "code",
   "execution_count": null,
   "metadata": {},
   "outputs": [],
   "source": []
  }
 ],
 "metadata": {
  "kernelspec": {
   "display_name": "Python 3",
   "language": "python",
   "name": "python3"
  },
  "language_info": {
   "codemirror_mode": {
    "name": "ipython",
    "version": 3
   },
   "file_extension": ".py",
   "mimetype": "text/x-python",
   "name": "python",
   "nbconvert_exporter": "python",
   "pygments_lexer": "ipython3",
   "version": "3.6.4"
  }
 },
 "nbformat": 4,
 "nbformat_minor": 2
}
