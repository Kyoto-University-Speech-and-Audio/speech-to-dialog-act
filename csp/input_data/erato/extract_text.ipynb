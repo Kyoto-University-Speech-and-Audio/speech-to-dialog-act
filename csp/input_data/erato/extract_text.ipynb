{
 "cells": [
  {
   "cell_type": "code",
   "execution_count": null,
   "metadata": {},
   "outputs": [],
   "source": [
    "import glob, os\n",
    "DATA_FOLDER=\"/n/sd7/trung/csp/data/erica/dialogue/data-kyoto-1711/elan_tab\"\n",
    "OUTPUT_FOLDER=\"/n/sd7/trung/data/erica\"\n",
    "from subprocess import call\n",
    "from struct import unpack, pack\n",
    "import numpy as np\n",
    "\n",
    "import IPython\n",
    "import wave\n",
    "from pydub import AudioSegment"
   ]
  },
  {
   "cell_type": "code",
   "execution_count": 33,
   "metadata": {},
   "outputs": [],
   "source": [
    "words = [s.strip().split(' ', 1) for s in open('/n/rd32/mimura/e2e/data/script/aps_sps/word.id', encoding='eucjp')]\n",
    "decoder_map_word = {word[0].split('+')[0]: int(word[1]) for word in words}"
   ]
  },
  {
   "cell_type": "code",
   "execution_count": 34,
   "metadata": {},
   "outputs": [
    {
     "name": "stdout",
     "output_type": "stream",
     "text": [
      "1540\n"
     ]
    }
   ],
   "source": [
    "filepaths = []\n",
    "targets = []\n",
    "\n",
    "for file in glob.glob(os.path.join(DATA_FOLDER, \"20171128_*.txt\")):\n",
    "    lines = open(file).read().split('\\n')\n",
    "    lines = [line.split('\\t') for line in lines]\n",
    "    lines = list(filter(lambda line: line[0] == \"Utterance(ERICA)\", lines))\n",
    "    lines = list(map(lambda line: (float(line[1]) * 1000, float(line[2]) * 1000, line[3]), lines))\n",
    "    \n",
    "    id = os.path.basename(file).split('.')[0]\n",
    "    \n",
    "    wavpath = '/n/sd7/trung/csp/data/erica/dialogue/data-kyoto-1711/20171128/%s/%s_audio_mix.wav' % (id, id)\n",
    "    \n",
    "    wav = AudioSegment.from_wav(wavpath)\n",
    "    \n",
    "    for count, (start, end, text) in enumerate(lines):\n",
    "        targets.append(text)\n",
    "        if not os.path.exists(os.path.join(OUTPUT_FOLDER, \"wav\", id)):\n",
    "            os.mkdir(os.path.join(OUTPUT_FOLDER, \"wav\", id))\n",
    "        if not os.path.exists(os.path.join(OUTPUT_FOLDER, \"htk\", id)):\n",
    "            os.mkdir(os.path.join(OUTPUT_FOLDER, \"htk\", id))\n",
    "        #wav[start:end].export(os.path.join(OUTPUT_FOLDER, \"wav\", id, \"%06d.wav\" % (count + 1)), format='wav')\n",
    "        '''\n",
    "        call([\n",
    "            \"/n/sd7/trung/bin/htk/HTKTools/HCopy\",\n",
    "            os.path.join(OUTPUT_FOLDER, \"wav\", id, \"%06d.wav\" % (count + 1)),\n",
    "            os.path.join(OUTPUT_FOLDER, \"htk\", id, \"%06d.htk\" % (count + 1)),\n",
    "            \"-C\", \"/n/sd7/trung/config.lmfb.40ch\"\n",
    "        ])\n",
    "        '''\n",
    "        filepaths.append(os.path.join(OUTPUT_FOLDER, \"htk\", id, \"%06d.htk\" % (count + 1)))\n",
    "\n",
    "print(len(filepaths))\n",
    "with open('/n/sd7/trung/data/erica/inputs.txt', 'w') as f:\n",
    "    f.write('\\n'.join(filepaths))\n",
    "    \n",
    "with open('/n/sd7/trung/data/erica/targets.txt', 'w') as f:\n",
    "    f.write('\\n'.join(targets))"
   ]
  },
  {
   "cell_type": "code",
   "execution_count": 35,
   "metadata": {},
   "outputs": [
    {
     "ename": "NameError",
     "evalue": "name 'test' is not defined",
     "traceback": [
      "\u001b[0;31m---------------------------------------------------------------------------\u001b[0m",
      "\u001b[0;31mNameError\u001b[0m                                 Traceback (most recent call last)",
      "\u001b[0;32m<ipython-input-35-7d8fd9993d13>\u001b[0m in \u001b[0;36m<module>\u001b[0;34m()\u001b[0m\n\u001b[0;32m----> 1\u001b[0;31m \u001b[0mwav\u001b[0m\u001b[0;34m[\u001b[0m\u001b[0mtest\u001b[0m\u001b[0;34m[\u001b[0m\u001b[0;36m0\u001b[0m\u001b[0;34m]\u001b[0m\u001b[0;34m:\u001b[0m\u001b[0mtest\u001b[0m\u001b[0;34m[\u001b[0m\u001b[0;36m1\u001b[0m\u001b[0;34m]\u001b[0m\u001b[0;34m]\u001b[0m\u001b[0;34m.\u001b[0m\u001b[0mexport\u001b[0m\u001b[0;34m(\u001b[0m\u001b[0;34m\"/n/sd7/trung/test.wav\"\u001b[0m\u001b[0;34m,\u001b[0m \u001b[0mformat\u001b[0m\u001b[0;34m=\u001b[0m\u001b[0;34m'wav'\u001b[0m\u001b[0;34m)\u001b[0m\u001b[0;34m\u001b[0m\u001b[0m\n\u001b[0m",
      "\u001b[0;31mNameError\u001b[0m: name 'test' is not defined"
     ],
     "output_type": "error"
    }
   ],
   "source": [
    "wav[test[0]:test[1]].export(\"/n/sd7/trung/test.wav\", format='wav')"
   ]
  },
  {
   "cell_type": "code",
   "execution_count": null,
   "metadata": {},
   "outputs": [],
   "source": [
    "IPython.display.Audio(\"/n/sd7/trung/test.wav\", autoplay=True)"
   ]
  },
  {
   "cell_type": "code",
   "execution_count": 78,
   "metadata": {},
   "outputs": [],
   "source": [
    "mean = open(\"/n/sd7/trung/data/aps_sps_mean.dat\").read().split('\\n')[:-1]\n",
    "mean = np.array([float(x) for x in mean])\n",
    "var = open(\"/n/sd7/trung/data/aps_sps_var.dat\").read().split('\\n')[:-1]\n",
    "var = np.array([float(x) for x in var])\n",
    "\n",
    "def get_features(infile):\n",
    "    outfile = \"/n/sd7/trung/tmp/tmp.htk\"\n",
    "    call([\n",
    "        \"/n/sd7/trung/bin/htk/HTKTools/HCopy\",\n",
    "        infile, outfile,\n",
    "        \"-C\", \"/n/sd7/trung/config.lmfb.40ch\", \"-T\", \"1\"\n",
    "    ])\n",
    "    fh = open(outfile, \"rb\")\n",
    "    spam = fh.read(12)\n",
    "    nSamples, sampPeriod, sampSize, parmKind = unpack(\">IIHH\", spam)\n",
    "    veclen = int(sampSize / 4)\n",
    "    fh.seek(12, 0)\n",
    "    dat = np.fromfile(fh, dtype=np.float32)\n",
    "    dat = dat.reshape(len(dat) // veclen, veclen)\n",
    "    dat = dat.byteswap()\n",
    "    fh.close()\n",
    "    \n",
    "    dat = (dat - mean) / var\n",
    "    fh = open(outfile, \"wb\")\n",
    "    fh.write(spam)\n",
    "    fh.seek(12, 0)\n",
    "    dat.tofile(fh)\n",
    "    fh.close()\n",
    "    \n",
    "    return dat"
   ]
  },
  {
   "cell_type": "code",
   "execution_count": 79,
   "metadata": {},
   "outputs": [
    {
     "name": "stdout",
     "output_type": "stream",
     "text": [
      "[[-1.3563083  -0.60438748 -0.16516968 ...  1.63716888  2.33180245\n",
      "   2.6821463 ]\n",
      " [-0.93287117 -0.96212057 -0.44866459 ... -0.39365604 -1.65758156\n",
      "  -2.74400562]\n",
      " [-0.72287086 -1.13310691 -0.50432257 ... -2.02688317 -4.71424949\n",
      "  -8.23852352]\n",
      " ...\n",
      " [-0.92506815 -0.50430951 -0.11062722 ... -0.31870232  4.21929527\n",
      "   5.22132578]\n",
      " [-0.56908713 -0.61964139 -0.26090718 ... -0.88665003  2.31265971\n",
      "   3.53524767]\n",
      " [-0.7744945  -0.8890716  -0.54675646 ... -0.70062965  0.19037309\n",
      "   1.76059851]]\n"
     ]
    }
   ],
   "source": [
    "wavfile = \"/n/sd7/trung/data/erica/wav/20171128_01/000026.wav\"\n",
    "feat = get_features(wavfile)\n",
    "print(feat)"
   ]
  },
  {
   "cell_type": "code",
   "execution_count": 64,
   "metadata": {},
   "outputs": [
    {
     "data": {
      "text/html": [
       "\n",
       "                <audio controls=\"controls\" autoplay=\"autoplay\">\n",
       "                    <source src=\"data:audio/x-wav;base64,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\" type=\"audio/x-wav\" />\n",
       "                    Your browser does not support the audio element.\n",
       "                </audio>\n",
       "              "
      ],
      "text/plain": [
       "<IPython.lib.display.Audio object>"
      ]
     },
     "execution_count": 64,
     "metadata": {},
     "output_type": "execute_result"
    }
   ],
   "source": [
    "IPython.display.Audio(wavfile, autoplay=True)"
   ]
  },
  {
   "cell_type": "code",
   "execution_count": 57,
   "metadata": {},
   "outputs": [
    {
     "name": "stdout",
     "output_type": "stream",
     "text": [
      "[5.513117426324923, 6.4372726280537265, 7.039052108515318, 7.483459436966893, 7.609096689740643, 7.597438146612656, 7.727616169758449, 7.85137872933976, 7.882184887914067, 7.869159582939171, 7.714500598951592, 7.694548865529827, 7.693034916473866, 7.688998289856246, 7.727658937707531, 7.740299232991686, 7.812012751839686, 7.900521260480068, 8.0075131502701, 8.09459954112279, 8.160358509597945, 8.222066914241589, 8.367843925996995, 8.560241463637627, 8.659760535805164, 8.619555790360971, 8.592388269891694, 8.660849707278981, 8.761198226934408, 8.831993787539389, 8.838446808434268, 8.795840819718494, 8.744237061817671, 8.721504993000874, 8.742108580329376, 8.768381239430582, 8.81139461277047, 8.878832216751151, 8.896731927018982, 8.270544314055897, 0.000430728709860992, 0.0005279870220909271, 0.000674947339800168, 0.0007102158103887029, 0.0006458182483911633, 0.0006222750711565015, 0.0006465713085563652, 0.0006420961103828666, 0.0006068078268232923, 0.0006063555898882477, 0.0006057679879563319, 0.0005660415249387304, 0.0005225146525609887, 0.0005201660273884582, 0.0005713116499507572, 0.0006318707831421147, 0.0006411025541227074, 0.0005618224722565645, 0.00045663750354553364, 0.0003427232137959521, 0.0002795211762174986, 0.00031923427181878173, 0.0003853994635255878, 0.000421564439832862, 0.00043646368781603503, 0.00040490146730204894, 0.00036354745509954126, 0.00036127318626172475, 0.000376865574060638, 0.00039560593481620626, 0.00042499913877370766, 0.0004233394144756926, 0.0004117562049163146, 0.000417668225860642, 0.0004218375866984503, 0.00041144092418923545, 0.0003900266430735842, 0.00037846342097957027, 0.0003716031644813583, 0.0003443621848663098, -6.73289332964264e-06, 4.326668350022328e-06, 1.931553727853477e-05, 2.9327613578011528e-05, 4.720907979542228e-05, 6.662833120246933e-05, 7.517882483914844e-05, 8.16489599215259e-05, 8.630151940871809e-05, 8.409316733045092e-05, 7.07567577490226e-05, 6.0992381246834946e-05, 6.536180806246109e-05, 7.680911933095219e-05, 8.288199708509711e-05, 9.088181724635581e-05, 0.00010420212871590679, 0.00012234646087642853, 0.00013114613098166422, 0.00015099123035665422, 0.0001612198138198263, 0.00015887143737516377, 0.00015277646529214317, 0.00014547149474594602, 0.00013721742714286337, 0.00013282581268879667, 0.00013636651026661871, 0.00014304340067697064, 0.00014999318073521096, 0.0001509231835911461, 0.00014514885418716572, 0.0001364237799683393, 0.0001332024332178581, 0.0001342590511924256, 0.00013004369523961104, 0.0001215749634129872, 0.00011346291288812788, 0.00010903836818850644, 0.00010466025336773049, 9.861753250572867e-05]\n"
     ]
    }
   ],
   "source": []
  },
  {
   "cell_type": "code",
   "execution_count": 56,
   "metadata": {},
   "outputs": [
    {
     "name": "stdout",
     "output_type": "stream",
     "text": [
      "5.513117426324923\n"
     ]
    }
   ],
   "source": []
  },
  {
   "cell_type": "code",
   "execution_count": null,
   "metadata": {},
   "outputs": [],
   "source": []
  }
 ],
 "metadata": {
  "kernelspec": {
   "display_name": "Python 3",
   "language": "python",
   "name": "python3"
  },
  "language_info": {
   "codemirror_mode": {
    "name": "ipython",
    "version": 3
   },
   "file_extension": ".py",
   "mimetype": "text/x-python",
   "name": "python",
   "nbconvert_exporter": "python",
   "pygments_lexer": "ipython3",
   "version": "3.6.4"
  }
 },
 "nbformat": 4,
 "nbformat_minor": 2
}
